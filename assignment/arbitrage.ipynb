{
 "cells": [
  {
   "cell_type": "code",
   "execution_count": 6,
   "metadata": {
    "scrolled": false
   },
   "outputs": [
    {
     "name": "stdout",
     "output_type": "stream",
     "text": [
      "{'ticker': {'base': 'BTC', 'target': 'USD', 'price': '7794.99711023', 'volume': '98611.37873880', 'change': '-38.33388983', 'markets': [{'market': 'Binance', 'price': '7782.06000000', 'volume': 49875.612282}, {'market': 'BitFinex', 'price': '7818.52263416', 'volume': 11972.25918508}, {'market': 'Bitstamp', 'price': '7789.05000000', 'volume': 9773.27105897}, {'market': 'Bittrex', 'price': '7794.95600000', 'volume': 695.47511432}, {'market': 'Bleutrade', 'price': '7143.53000000', 'volume': 0.43780426}, {'market': 'C-Cex', 'price': '9002.00000000', 'volume': 0.00019854}, {'market': 'Cex.io', 'price': '7827.90000000', 'volume': 419.12373799}, {'market': 'Coinbase Pro', 'price': '7803.42000000', 'volume': 14228.46861433}, {'market': 'Exmo', 'price': '7838.21887500', 'volume': 887.67305185}, {'market': 'Hitbtc', 'price': '7792.55082000', 'volume': 22.25639}, {'market': 'IncoreX', 'price': '8186.96000000', 'volume': 47.61097634}, {'market': 'Kraken', 'price': '7796.20000000', 'volume': 8349.01145575}, {'market': 'Livecoin', 'price': '7925.40954000', 'volume': 1667.81535324}, {'market': 'Poloniex', 'price': '7789.94148044', 'volume': 639.31604396}, {'market': 'YoBit', 'price': '8009.99000002', 'volume': 33.04747217}]}, 'timestamp': 1559764861, 'success': True, 'error': ''}\n"
     ]
    },
    {
     "data": {
      "text/html": [
       "<div>\n",
       "<style scoped>\n",
       "    .dataframe tbody tr th:only-of-type {\n",
       "        vertical-align: middle;\n",
       "    }\n",
       "\n",
       "    .dataframe tbody tr th {\n",
       "        vertical-align: top;\n",
       "    }\n",
       "\n",
       "    .dataframe thead th {\n",
       "        text-align: right;\n",
       "    }\n",
       "</style>\n",
       "<table border=\"1\" class=\"dataframe\">\n",
       "  <thead>\n",
       "    <tr style=\"text-align: right;\">\n",
       "      <th></th>\n",
       "      <th>ticker</th>\n",
       "      <th>timestamp</th>\n",
       "      <th>success</th>\n",
       "      <th>error</th>\n",
       "    </tr>\n",
       "  </thead>\n",
       "  <tbody>\n",
       "    <tr>\n",
       "      <th>base</th>\n",
       "      <td>BTC</td>\n",
       "      <td>1559764861</td>\n",
       "      <td>True</td>\n",
       "      <td></td>\n",
       "    </tr>\n",
       "    <tr>\n",
       "      <th>change</th>\n",
       "      <td>-38.33388983</td>\n",
       "      <td>1559764861</td>\n",
       "      <td>True</td>\n",
       "      <td></td>\n",
       "    </tr>\n",
       "    <tr>\n",
       "      <th>markets</th>\n",
       "      <td>[{'market': 'Binance', 'price': '7782.06000000...</td>\n",
       "      <td>1559764861</td>\n",
       "      <td>True</td>\n",
       "      <td></td>\n",
       "    </tr>\n",
       "    <tr>\n",
       "      <th>price</th>\n",
       "      <td>7794.99711023</td>\n",
       "      <td>1559764861</td>\n",
       "      <td>True</td>\n",
       "      <td></td>\n",
       "    </tr>\n",
       "    <tr>\n",
       "      <th>target</th>\n",
       "      <td>USD</td>\n",
       "      <td>1559764861</td>\n",
       "      <td>True</td>\n",
       "      <td></td>\n",
       "    </tr>\n",
       "    <tr>\n",
       "      <th>volume</th>\n",
       "      <td>98611.37873880</td>\n",
       "      <td>1559764861</td>\n",
       "      <td>True</td>\n",
       "      <td></td>\n",
       "    </tr>\n",
       "  </tbody>\n",
       "</table>\n",
       "</div>"
      ],
      "text/plain": [
       "                                                    ticker   timestamp  \\\n",
       "base                                                   BTC  1559764861   \n",
       "change                                        -38.33388983  1559764861   \n",
       "markets  [{'market': 'Binance', 'price': '7782.06000000...  1559764861   \n",
       "price                                        7794.99711023  1559764861   \n",
       "target                                                 USD  1559764861   \n",
       "volume                                      98611.37873880  1559764861   \n",
       "\n",
       "         success error  \n",
       "base        True        \n",
       "change      True        \n",
       "markets     True        \n",
       "price       True        \n",
       "target      True        \n",
       "volume      True        "
      ]
     },
     "execution_count": 6,
     "metadata": {},
     "output_type": "execute_result"
    }
   ],
   "source": [
    "import numpy as np\n",
    "import pandas as pd\n",
    "import requests\n",
    "import matplotlib.pyplot as plt\n",
    "getURL = requests.get('https://api.cryptonator.com/api/full/btc-usd').json()\n",
    "print(getURL)\n",
    "df1  = pd.DataFrame(getURL)\n",
    "df1"
   ]
  },
  {
   "cell_type": "code",
   "execution_count": 7,
   "metadata": {},
   "outputs": [
    {
     "name": "stdout",
     "output_type": "stream",
     "text": [
      "          market          price        volume\n",
      "0        Binance  7782.06000000  49875.612282\n",
      "1       BitFinex  7818.52263416  11972.259185\n",
      "2       Bitstamp  7789.05000000   9773.271059\n",
      "3        Bittrex  7794.95600000    695.475114\n",
      "4      Bleutrade  7143.53000000      0.437804\n",
      "5          C-Cex  9002.00000000      0.000199\n",
      "6         Cex.io  7827.90000000    419.123738\n",
      "7   Coinbase Pro  7803.42000000  14228.468614\n",
      "8           Exmo  7838.21887500    887.673052\n",
      "9         Hitbtc  7792.55082000     22.256390\n",
      "10       IncoreX  8186.96000000     47.610976\n",
      "11        Kraken  7796.20000000   8349.011456\n",
      "12      Livecoin  7925.40954000   1667.815353\n",
      "13      Poloniex  7789.94148044    639.316044\n",
      "14         YoBit  8009.99000002     33.047472\n",
      "<class 'pandas.core.frame.DataFrame'>\n"
     ]
    }
   ],
   "source": [
    "df_ticker = pd.DataFrame(df1['ticker']['markets'])\n",
    "print(df_ticker)\n",
    "print(type(df_ticker))\n"
   ]
  },
  {
   "cell_type": "code",
   "execution_count": 16,
   "metadata": {},
   "outputs": [],
   "source": [
    "price = df_ticker['price'].astype('float')\n",
    "mar = list(df_ticker['market'])\n",
    "price = list(price)\n",
    "vol = list(df_ticker['volume'])\n",
    "def plot_txt(text , x_val , y_val):\n",
    "    for t , x , y in zip(text[:] , x_val[:] , y_val[:]):\n",
    "        plt.annotate(t , xy = (x , y))\n",
    "    plt.grid(True)\n",
    "    plt.scatter(x_val , y_val)\n",
    "    plt.title('Arbitrage Finder')\n",
    "    plt.show()"
   ]
  },
  {
   "cell_type": "code",
   "execution_count": 15,
   "metadata": {},
   "outputs": [
    {
     "data": {
      "image/png": "[encoded data removed]",
      "text/plain": [
       "<Figure size 432x288 with 1 Axes>"
      ]
     },
     "metadata": {
      "needs_background": "light"
     },
     "output_type": "display_data"
    }
   ],
   "source": [
    "plot_txt(mar , price , vol)"
   ]
  },
  {
   "cell_type": "code",
   "execution_count": null,
   "metadata": {},
   "outputs": [],
   "source": []
  }
 ],
 "metadata": {
  "kernelspec": {
   "display_name": "Python 3",
   "language": "python",
   "name": "python3"
  },
  "language_info": {
   "codemirror_mode": {
    "name": "ipython",
    "version": 3
   },
   "file_extension": ".py",
   "mimetype": "text/x-python",
   "name": "python",
   "nbconvert_exporter": "python",
   "pygments_lexer": "ipython3",
   "version": "3.7.3"
  }
 },
 "nbformat": 4,
 "nbformat_minor": 2
}
