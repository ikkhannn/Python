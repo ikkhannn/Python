{
 "cells": [
  {
   "cell_type": "code",
   "execution_count": 1,
   "metadata": {},
   "outputs": [],
   "source": [
    "import matplotlib.pyplot as plt\n",
    "import pandas as pd\n",
    "import requests"
   ]
  },
  {
   "cell_type": "code",
   "execution_count": 3,
   "metadata": {},
   "outputs": [
    {
     "name": "stdout",
     "output_type": "stream",
     "text": [
      "{'ticker': {'base': 'BTC', 'target': 'USD', 'price': '7705.13832935', 'volume': '102171.02361318', 'change': '-106.79723494', 'markets': [{'market': 'Binance', 'price': '7703.20000000', 'volume': 51104.83683}, {'market': 'BitFinex', 'price': '7680.70000000', 'volume': 12110.88778479}, {'market': 'Bitstamp', 'price': '7709.35000000', 'volume': 10146.64870397}, {'market': 'Bittrex', 'price': '7700.00000000', 'volume': 666.36914138}, {'market': 'Bleutrade', 'price': '7143.53000000', 'volume': 0.43761095}, {'market': 'C-Cex', 'price': '9002.00000000', 'volume': 0.00019854}, {'market': 'Cex.io', 'price': '7759.40000000', 'volume': 415.33720039}, {'market': 'Coinbase Pro', 'price': '7715.71000000', 'volume': 15362.56989489}, {'market': 'Exmo', 'price': '7721.00000000', 'volume': 896.05630863}, {'market': 'Hitbtc', 'price': '7740.90678000', 'volume': 22.45777}, {'market': 'IncoreX', 'price': '8071.88000000', 'volume': 55.9026286}, {'market': 'Kraken', 'price': '7711.30000000', 'volume': 8998.63512115}, {'market': 'Livecoin', 'price': '7751.30001000', 'volume': 1680.32186784}, {'market': 'Poloniex', 'price': '7694.42721682', 'volume': 677.51675764}, {'market': 'YoBit', 'price': '7999.99999995', 'volume': 33.04579441}]}, 'timestamp': 1559768163, 'success': True, 'error': ''}\n"
     ]
    }
   ],
   "source": [
    "getdata=requests.get('https://api.cryptonator.com/api/full/btc-usd').json()\n",
    "print(getdata)"
   ]
  },
  {
   "cell_type": "code",
   "execution_count": 4,
   "metadata": {},
   "outputs": [
    {
     "data": {
      "text/html": [
       "<div>\n",
       "<style scoped>\n",
       "    .dataframe tbody tr th:only-of-type {\n",
       "        vertical-align: middle;\n",
       "    }\n",
       "\n",
       "    .dataframe tbody tr th {\n",
       "        vertical-align: top;\n",
       "    }\n",
       "\n",
       "    .dataframe thead th {\n",
       "        text-align: right;\n",
       "    }\n",
       "</style>\n",
       "<table border=\"1\" class=\"dataframe\">\n",
       "  <thead>\n",
       "    <tr style=\"text-align: right;\">\n",
       "      <th></th>\n",
       "      <th>ticker</th>\n",
       "      <th>timestamp</th>\n",
       "      <th>success</th>\n",
       "      <th>error</th>\n",
       "    </tr>\n",
       "  </thead>\n",
       "  <tbody>\n",
       "    <tr>\n",
       "      <th>base</th>\n",
       "      <td>BTC</td>\n",
       "      <td>1559768163</td>\n",
       "      <td>True</td>\n",
       "      <td></td>\n",
       "    </tr>\n",
       "    <tr>\n",
       "      <th>change</th>\n",
       "      <td>-106.79723494</td>\n",
       "      <td>1559768163</td>\n",
       "      <td>True</td>\n",
       "      <td></td>\n",
       "    </tr>\n",
       "    <tr>\n",
       "      <th>markets</th>\n",
       "      <td>[{'market': 'Binance', 'price': '7703.20000000...</td>\n",
       "      <td>1559768163</td>\n",
       "      <td>True</td>\n",
       "      <td></td>\n",
       "    </tr>\n",
       "    <tr>\n",
       "      <th>price</th>\n",
       "      <td>7705.13832935</td>\n",
       "      <td>1559768163</td>\n",
       "      <td>True</td>\n",
       "      <td></td>\n",
       "    </tr>\n",
       "    <tr>\n",
       "      <th>target</th>\n",
       "      <td>USD</td>\n",
       "      <td>1559768163</td>\n",
       "      <td>True</td>\n",
       "      <td></td>\n",
       "    </tr>\n",
       "    <tr>\n",
       "      <th>volume</th>\n",
       "      <td>102171.02361318</td>\n",
       "      <td>1559768163</td>\n",
       "      <td>True</td>\n",
       "      <td></td>\n",
       "    </tr>\n",
       "  </tbody>\n",
       "</table>\n",
       "</div>"
      ],
      "text/plain": [
       "                                                    ticker   timestamp  \\\n",
       "base                                                   BTC  1559768163   \n",
       "change                                       -106.79723494  1559768163   \n",
       "markets  [{'market': 'Binance', 'price': '7703.20000000...  1559768163   \n",
       "price                                        7705.13832935  1559768163   \n",
       "target                                                 USD  1559768163   \n",
       "volume                                     102171.02361318  1559768163   \n",
       "\n",
       "         success error  \n",
       "base        True        \n",
       "change      True        \n",
       "markets     True        \n",
       "price       True        \n",
       "target      True        \n",
       "volume      True        "
      ]
     },
     "execution_count": 4,
     "metadata": {},
     "output_type": "execute_result"
    }
   ],
   "source": [
    "df=pd.DataFrame(getdata)\n",
    "df"
   ]
  },
  {
   "cell_type": "code",
   "execution_count": 5,
   "metadata": {},
   "outputs": [
    {
     "data": {
      "text/html": [
       "<div>\n",
       "<style scoped>\n",
       "    .dataframe tbody tr th:only-of-type {\n",
       "        vertical-align: middle;\n",
       "    }\n",
       "\n",
       "    .dataframe tbody tr th {\n",
       "        vertical-align: top;\n",
       "    }\n",
       "\n",
       "    .dataframe thead th {\n",
       "        text-align: right;\n",
       "    }\n",
       "</style>\n",
       "<table border=\"1\" class=\"dataframe\">\n",
       "  <thead>\n",
       "    <tr style=\"text-align: right;\">\n",
       "      <th></th>\n",
       "      <th>market</th>\n",
       "      <th>price</th>\n",
       "      <th>volume</th>\n",
       "    </tr>\n",
       "  </thead>\n",
       "  <tbody>\n",
       "    <tr>\n",
       "      <th>0</th>\n",
       "      <td>Binance</td>\n",
       "      <td>7703.20000000</td>\n",
       "      <td>51104.836830</td>\n",
       "    </tr>\n",
       "    <tr>\n",
       "      <th>1</th>\n",
       "      <td>BitFinex</td>\n",
       "      <td>7680.70000000</td>\n",
       "      <td>12110.887785</td>\n",
       "    </tr>\n",
       "    <tr>\n",
       "      <th>2</th>\n",
       "      <td>Bitstamp</td>\n",
       "      <td>7709.35000000</td>\n",
       "      <td>10146.648704</td>\n",
       "    </tr>\n",
       "    <tr>\n",
       "      <th>3</th>\n",
       "      <td>Bittrex</td>\n",
       "      <td>7700.00000000</td>\n",
       "      <td>666.369141</td>\n",
       "    </tr>\n",
       "    <tr>\n",
       "      <th>4</th>\n",
       "      <td>Bleutrade</td>\n",
       "      <td>7143.53000000</td>\n",
       "      <td>0.437611</td>\n",
       "    </tr>\n",
       "    <tr>\n",
       "      <th>5</th>\n",
       "      <td>C-Cex</td>\n",
       "      <td>9002.00000000</td>\n",
       "      <td>0.000199</td>\n",
       "    </tr>\n",
       "    <tr>\n",
       "      <th>6</th>\n",
       "      <td>Cex.io</td>\n",
       "      <td>7759.40000000</td>\n",
       "      <td>415.337200</td>\n",
       "    </tr>\n",
       "    <tr>\n",
       "      <th>7</th>\n",
       "      <td>Coinbase Pro</td>\n",
       "      <td>7715.71000000</td>\n",
       "      <td>15362.569895</td>\n",
       "    </tr>\n",
       "    <tr>\n",
       "      <th>8</th>\n",
       "      <td>Exmo</td>\n",
       "      <td>7721.00000000</td>\n",
       "      <td>896.056309</td>\n",
       "    </tr>\n",
       "    <tr>\n",
       "      <th>9</th>\n",
       "      <td>Hitbtc</td>\n",
       "      <td>7740.90678000</td>\n",
       "      <td>22.457770</td>\n",
       "    </tr>\n",
       "    <tr>\n",
       "      <th>10</th>\n",
       "      <td>IncoreX</td>\n",
       "      <td>8071.88000000</td>\n",
       "      <td>55.902629</td>\n",
       "    </tr>\n",
       "    <tr>\n",
       "      <th>11</th>\n",
       "      <td>Kraken</td>\n",
       "      <td>7711.30000000</td>\n",
       "      <td>8998.635121</td>\n",
       "    </tr>\n",
       "    <tr>\n",
       "      <th>12</th>\n",
       "      <td>Livecoin</td>\n",
       "      <td>7751.30001000</td>\n",
       "      <td>1680.321868</td>\n",
       "    </tr>\n",
       "    <tr>\n",
       "      <th>13</th>\n",
       "      <td>Poloniex</td>\n",
       "      <td>7694.42721682</td>\n",
       "      <td>677.516758</td>\n",
       "    </tr>\n",
       "    <tr>\n",
       "      <th>14</th>\n",
       "      <td>YoBit</td>\n",
       "      <td>7999.99999995</td>\n",
       "      <td>33.045794</td>\n",
       "    </tr>\n",
       "  </tbody>\n",
       "</table>\n",
       "</div>"
      ],
      "text/plain": [
       "          market          price        volume\n",
       "0        Binance  7703.20000000  51104.836830\n",
       "1       BitFinex  7680.70000000  12110.887785\n",
       "2       Bitstamp  7709.35000000  10146.648704\n",
       "3        Bittrex  7700.00000000    666.369141\n",
       "4      Bleutrade  7143.53000000      0.437611\n",
       "5          C-Cex  9002.00000000      0.000199\n",
       "6         Cex.io  7759.40000000    415.337200\n",
       "7   Coinbase Pro  7715.71000000  15362.569895\n",
       "8           Exmo  7721.00000000    896.056309\n",
       "9         Hitbtc  7740.90678000     22.457770\n",
       "10       IncoreX  8071.88000000     55.902629\n",
       "11        Kraken  7711.30000000   8998.635121\n",
       "12      Livecoin  7751.30001000   1680.321868\n",
       "13      Poloniex  7694.42721682    677.516758\n",
       "14         YoBit  7999.99999995     33.045794"
      ]
     },
     "execution_count": 5,
     "metadata": {},
     "output_type": "execute_result"
    }
   ],
   "source": [
    "df2=pd.DataFrame(df['ticker']['markets'])\n",
    "df2"
   ]
  },
  {
   "cell_type": "code",
   "execution_count": 11,
   "metadata": {},
   "outputs": [
    {
     "data": {
      "image/png": "[encoded data removed]",
      "text/plain": [
       "<Figure size 1080x720 with 1 Axes>"
      ]
     },
     "metadata": {
      "needs_background": "light"
     },
     "output_type": "display_data"
    }
   ],
   "source": [
    "fig,axis=plt.subplots(figsize=(15,10))\n",
    "text=df2['market']\n",
    "xaxis=df2['price']\n",
    "yaxis=df2['volume']\n",
    "plt.scatter(xaxis,yaxis,marker='*')\n",
    "axis.set_xticklabels(xaxis,rotation=90)\n",
    "def CreatePlot(text,xaxis,yaxis):\n",
    "    for text,x,y in zip(text,xaxis[:],yaxis[:]):\n",
    "        plt.annotate(text,xy=(x,y))\n",
    "CreatePlot(text,xaxis,yaxis)\n",
    "plt.title(\"Crypo Performanance\")\n",
    "plt.xlabel(\"Price\")\n",
    "plt.ylabel(\"Volume\")\n",
    "plt.grid()\n",
    "plt.show()"
   ]
  },
  {
   "cell_type": "code",
   "execution_count": null,
   "metadata": {},
   "outputs": [],
   "source": []
  }
 ],
 "metadata": {
  "kernelspec": {
   "display_name": "Python 3",
   "language": "python",
   "name": "python3"
  },
  "language_info": {
   "codemirror_mode": {
    "name": "ipython",
    "version": 3
   },
   "file_extension": ".py",
   "mimetype": "text/x-python",
   "name": "python",
   "nbconvert_exporter": "python",
   "pygments_lexer": "ipython3",
   "version": "3.7.3"
  }
 },
 "nbformat": 4,
 "nbformat_minor": 2
}
