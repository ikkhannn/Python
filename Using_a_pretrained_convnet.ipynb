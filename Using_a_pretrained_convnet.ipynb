{
  "nbformat": 4,
  "nbformat_minor": 0,
  "metadata": {
    "colab": {
      "name": "Using a pretrained convnet.ipynb",
      "provenance": [],
      "collapsed_sections": []
    },
    "kernelspec": {
      "name": "python3",
      "display_name": "Python 3"
    },
    "accelerator": "GPU"
  },
  "cells": [
    {
      "cell_type": "code",
      "metadata": {
        "id": "4w2QA7X-lZzF",
        "colab_type": "code",
        "outputId": "6fd48546-40d3-4b4a-f5b5-4bdaa87c9355",
        "colab": {
          "base_uri": "https://localhost:8080/",
          "height": 275
        }
      },
      "source": [
        "from keras.applications import VGG16\n",
        "conv_base= VGG16(weights='imagenet',include_top=False,input_shape=(150,150,3))"
      ],
      "execution_count": 3,
      "outputs": [
        {
          "output_type": "stream",
          "text": [
            "WARNING:tensorflow:From /usr/local/lib/python3.6/dist-packages/keras/backend/tensorflow_backend.py:66: The name tf.get_default_graph is deprecated. Please use tf.compat.v1.get_default_graph instead.\n",
            "\n",
            "WARNING:tensorflow:From /usr/local/lib/python3.6/dist-packages/keras/backend/tensorflow_backend.py:541: The name tf.placeholder is deprecated. Please use tf.compat.v1.placeholder instead.\n",
            "\n",
            "WARNING:tensorflow:From /usr/local/lib/python3.6/dist-packages/keras/backend/tensorflow_backend.py:4432: The name tf.random_uniform is deprecated. Please use tf.random.uniform instead.\n",
            "\n",
            "WARNING:tensorflow:From /usr/local/lib/python3.6/dist-packages/keras/backend/tensorflow_backend.py:4267: The name tf.nn.max_pool is deprecated. Please use tf.nn.max_pool2d instead.\n",
            "\n",
            "Downloading data from https://github.com/fchollet/deep-learning-models/releases/download/v0.1/vgg16_weights_tf_dim_ordering_tf_kernels_notop.h5\n",
            "58892288/58889256 [==============================] - 3s 0us/step\n",
            "WARNING:tensorflow:From /usr/local/lib/python3.6/dist-packages/keras/backend/tensorflow_backend.py:190: The name tf.get_default_session is deprecated. Please use tf.compat.v1.get_default_session instead.\n",
            "\n",
            "WARNING:tensorflow:From /usr/local/lib/python3.6/dist-packages/keras/backend/tensorflow_backend.py:197: The name tf.ConfigProto is deprecated. Please use tf.compat.v1.ConfigProto instead.\n",
            "\n"
          ],
          "name": "stdout"
        }
      ]
    },
    {
      "cell_type": "code",
      "metadata": {
        "id": "pd8pu_EemKUh",
        "colab_type": "code",
        "colab": {}
      },
      "source": [
        "import os\n",
        "import numpy as np\n",
        "from keras.preprocessing.image import ImageDataGenerator\n",
        "base_dir = '/content/drive/My Drive/datasets/CD-Dataset'\n",
        "train_dir = os.path.join(base_dir, 'train')\n",
        "validation_dir = os.path.join(base_dir, 'validation')\n",
        "test_dir = os.path.join(base_dir, 'test')\n",
        "datagen = ImageDataGenerator(rescale=1./255)\n",
        "batch_size = 20\n",
        "\n",
        "def extract_features(directory, sample_count):\n",
        "  features = np.zeros(shape=(sample_count, 4, 4, 512))\n",
        "  labels = np.zeros(shape=(sample_count))\n",
        "  generator = datagen.flow_from_directory(directory,target_size=(150, 150),batch_size=batch_size,class_mode='binary')\n",
        "  i=0\n",
        "  for inputs_batch, labels_batch in generator:\n",
        "    features_batch = conv_base.predict(inputs_batch)\n",
        "    features[i * batch_size : (i + 1) * batch_size] = features_batch\n",
        "    labels[i * batch_size : (i + 1) * batch_size] = labels_batch\n",
        "    i += 1\n",
        "    if i * batch_size >= sample_count:\n",
        "      break\n",
        "  return features, labels\n"
      ],
      "execution_count": 0,
      "outputs": []
    },
    {
      "cell_type": "code",
      "metadata": {
        "id": "3l0MwqgUeA4r",
        "colab_type": "code",
        "outputId": "94edfbf1-0a27-43b9-ae20-a77cc2a39934",
        "colab": {
          "base_uri": "https://localhost:8080/",
          "height": 122
        }
      },
      "source": [
        "from google.colab import drive\n",
        "drive.mount('/content/drive')"
      ],
      "execution_count": 2,
      "outputs": [
        {
          "output_type": "stream",
          "text": [
            "Go to this URL in a browser: https://accounts.google.com/o/oauth2/auth?client_id=947318989803-6bn6qk8qdgf4n4g3pfee6491hc0brc4i.apps.googleusercontent.com&redirect_uri=urn%3Aietf%3Awg%3Aoauth%3A2.0%3Aoob&scope=email%20https%3A%2F%2Fwww.googleapis.com%2Fauth%2Fdocs.test%20https%3A%2F%2Fwww.googleapis.com%2Fauth%2Fdrive%20https%3A%2F%2Fwww.googleapis.com%2Fauth%2Fdrive.photos.readonly%20https%3A%2F%2Fwww.googleapis.com%2Fauth%2Fpeopleapi.readonly&response_type=code\n",
            "\n",
            "Enter your authorization code:\n",
            "··········\n",
            "Mounted at /content/drive\n"
          ],
          "name": "stdout"
        }
      ]
    },
    {
      "cell_type": "code",
      "metadata": {
        "id": "dhzORN0keC3H",
        "colab_type": "code",
        "outputId": "1f842656-d1d1-413f-e922-a74808efbf88",
        "colab": {
          "base_uri": "https://localhost:8080/",
          "height": 68
        }
      },
      "source": [
        "train_features, train_labels = extract_features(train_dir, 1997)\n",
        "validation_features, validation_labels = extract_features(validation_dir, 1000)\n",
        "test_features, test_labels = extract_features(test_dir, 1000)"
      ],
      "execution_count": 0,
      "outputs": [
        {
          "output_type": "stream",
          "text": [
            "Found 1997 images belonging to 2 classes.\n",
            "Found 1000 images belonging to 2 classes.\n",
            "Found 1000 images belonging to 2 classes.\n"
          ],
          "name": "stdout"
        }
      ]
    },
    {
      "cell_type": "code",
      "metadata": {
        "id": "8GOOCWHXjf8Z",
        "colab_type": "code",
        "colab": {}
      },
      "source": [
        "train_features = np.reshape(train_features, (1997, 4*4* 512))\n",
        "validation_features = np.reshape(validation_features, (1000, 4*4* 512))\n",
        "test_features = np.reshape(test_features, (1000, 4*4* 512))"
      ],
      "execution_count": 0,
      "outputs": []
    },
    {
      "cell_type": "code",
      "metadata": {
        "id": "jIx7xVp4vWls",
        "colab_type": "code",
        "colab": {}
      },
      "source": [
        "#Defining and training the densely connected classifier"
      ],
      "execution_count": 0,
      "outputs": []
    },
    {
      "cell_type": "code",
      "metadata": {
        "id": "hRXMFLYivcp2",
        "colab_type": "code",
        "outputId": "10f4ed68-36c5-47da-f96f-85942278c75c",
        "colab": {
          "base_uri": "https://localhost:8080/",
          "height": 1000
        }
      },
      "source": [
        "from keras import models\n",
        "from keras import layers\n",
        "from keras import optimizers\n",
        "model = models.Sequential()\n",
        "model.add(layers.Dense(256, activation='relu', input_dim=4 * 4 * 512))\n",
        "model.add(layers.Dropout(0.5))\n",
        "model.add(layers.Dense(1, activation='sigmoid'))\n",
        "model.compile(optimizer=optimizers.RMSprop(lr=2e-5),\n",
        "loss='binary_crossentropy',\n",
        "metrics=['acc'])\n",
        "history = model.fit(train_features, train_labels,\n",
        "epochs=30,\n",
        "batch_size=20,\n",
        "validation_data=(validation_features, validation_labels))\n"
      ],
      "execution_count": 0,
      "outputs": [
        {
          "output_type": "stream",
          "text": [
            "WARNING:tensorflow:From /usr/local/lib/python3.6/dist-packages/keras/backend/tensorflow_backend.py:3733: calling dropout (from tensorflow.python.ops.nn_ops) with keep_prob is deprecated and will be removed in a future version.\n",
            "Instructions for updating:\n",
            "Please use `rate` instead of `keep_prob`. Rate should be set to `rate = 1 - keep_prob`.\n",
            "WARNING:tensorflow:From /usr/local/lib/python3.6/dist-packages/keras/optimizers.py:793: The name tf.train.Optimizer is deprecated. Please use tf.compat.v1.train.Optimizer instead.\n",
            "\n",
            "WARNING:tensorflow:From /usr/local/lib/python3.6/dist-packages/tensorflow/python/ops/nn_impl.py:180: add_dispatch_support.<locals>.wrapper (from tensorflow.python.ops.array_ops) is deprecated and will be removed in a future version.\n",
            "Instructions for updating:\n",
            "Use tf.where in 2.0, which has the same broadcast rule as np.where\n",
            "Train on 1997 samples, validate on 1000 samples\n",
            "Epoch 1/30\n",
            "1997/1997 [==============================] - 3s 2ms/step - loss: 0.6007 - acc: 0.6655 - val_loss: 0.4280 - val_acc: 0.8480\n",
            "Epoch 2/30\n",
            "1997/1997 [==============================] - 3s 2ms/step - loss: 0.4129 - acc: 0.8122 - val_loss: 0.3512 - val_acc: 0.8690\n",
            "Epoch 3/30\n",
            "1997/1997 [==============================] - 3s 1ms/step - loss: 0.3578 - acc: 0.8458 - val_loss: 0.3131 - val_acc: 0.8940\n",
            "Epoch 4/30\n",
            "1997/1997 [==============================] - 3s 1ms/step - loss: 0.3113 - acc: 0.8738 - val_loss: 0.2894 - val_acc: 0.8900\n",
            "Epoch 5/30\n",
            "1997/1997 [==============================] - 3s 1ms/step - loss: 0.2811 - acc: 0.8868 - val_loss: 0.2747 - val_acc: 0.8940\n",
            "Epoch 6/30\n",
            "1997/1997 [==============================] - 3s 2ms/step - loss: 0.2573 - acc: 0.9019 - val_loss: 0.2788 - val_acc: 0.8820\n",
            "Epoch 7/30\n",
            "1997/1997 [==============================] - 3s 2ms/step - loss: 0.2414 - acc: 0.9029 - val_loss: 0.2715 - val_acc: 0.8860\n",
            "Epoch 8/30\n",
            "1997/1997 [==============================] - 3s 1ms/step - loss: 0.2278 - acc: 0.9149 - val_loss: 0.2525 - val_acc: 0.9000\n",
            "Epoch 9/30\n",
            "1997/1997 [==============================] - 3s 1ms/step - loss: 0.2171 - acc: 0.9189 - val_loss: 0.2453 - val_acc: 0.8990\n",
            "Epoch 10/30\n",
            "1997/1997 [==============================] - 3s 2ms/step - loss: 0.2055 - acc: 0.9184 - val_loss: 0.2437 - val_acc: 0.8990\n",
            "Epoch 11/30\n",
            "1997/1997 [==============================] - 3s 1ms/step - loss: 0.1923 - acc: 0.9269 - val_loss: 0.2473 - val_acc: 0.8990\n",
            "Epoch 12/30\n",
            "1997/1997 [==============================] - 3s 2ms/step - loss: 0.1866 - acc: 0.9304 - val_loss: 0.2357 - val_acc: 0.9010\n",
            "Epoch 13/30\n",
            "1997/1997 [==============================] - 3s 2ms/step - loss: 0.1769 - acc: 0.9404 - val_loss: 0.2364 - val_acc: 0.9040\n",
            "Epoch 14/30\n",
            "1997/1997 [==============================] - 3s 2ms/step - loss: 0.1648 - acc: 0.9444 - val_loss: 0.2341 - val_acc: 0.9030\n",
            "Epoch 15/30\n",
            "1997/1997 [==============================] - 3s 2ms/step - loss: 0.1644 - acc: 0.9399 - val_loss: 0.2344 - val_acc: 0.9050\n",
            "Epoch 16/30\n",
            "1997/1997 [==============================] - 3s 2ms/step - loss: 0.1542 - acc: 0.9454 - val_loss: 0.2342 - val_acc: 0.9050\n",
            "Epoch 17/30\n",
            "1997/1997 [==============================] - 3s 1ms/step - loss: 0.1442 - acc: 0.9504 - val_loss: 0.2308 - val_acc: 0.9050\n",
            "Epoch 18/30\n",
            "1997/1997 [==============================] - 3s 1ms/step - loss: 0.1464 - acc: 0.9469 - val_loss: 0.2307 - val_acc: 0.9030\n",
            "Epoch 19/30\n",
            "1997/1997 [==============================] - 3s 2ms/step - loss: 0.1356 - acc: 0.9539 - val_loss: 0.2405 - val_acc: 0.8990\n",
            "Epoch 20/30\n",
            "1997/1997 [==============================] - 3s 2ms/step - loss: 0.1305 - acc: 0.9564 - val_loss: 0.2321 - val_acc: 0.9030\n",
            "Epoch 21/30\n",
            "1997/1997 [==============================] - 3s 2ms/step - loss: 0.1218 - acc: 0.9594 - val_loss: 0.2309 - val_acc: 0.9040\n",
            "Epoch 22/30\n",
            "1997/1997 [==============================] - 3s 2ms/step - loss: 0.1247 - acc: 0.9584 - val_loss: 0.2314 - val_acc: 0.9010\n",
            "Epoch 23/30\n",
            "1997/1997 [==============================] - 3s 2ms/step - loss: 0.1142 - acc: 0.9619 - val_loss: 0.2308 - val_acc: 0.9020\n",
            "Epoch 24/30\n",
            "1997/1997 [==============================] - 3s 2ms/step - loss: 0.1082 - acc: 0.9624 - val_loss: 0.2311 - val_acc: 0.9030\n",
            "Epoch 25/30\n",
            "1997/1997 [==============================] - 3s 2ms/step - loss: 0.1066 - acc: 0.9649 - val_loss: 0.2336 - val_acc: 0.9030\n",
            "Epoch 26/30\n",
            "1997/1997 [==============================] - 3s 2ms/step - loss: 0.0966 - acc: 0.9710 - val_loss: 0.2504 - val_acc: 0.8960\n",
            "Epoch 27/30\n",
            "1997/1997 [==============================] - 3s 1ms/step - loss: 0.0970 - acc: 0.9695 - val_loss: 0.2386 - val_acc: 0.9020\n",
            "Epoch 28/30\n",
            "1997/1997 [==============================] - 3s 2ms/step - loss: 0.0920 - acc: 0.9740 - val_loss: 0.2478 - val_acc: 0.8960\n",
            "Epoch 29/30\n",
            "1997/1997 [==============================] - 3s 1ms/step - loss: 0.0893 - acc: 0.9735 - val_loss: 0.2357 - val_acc: 0.9030\n",
            "Epoch 30/30\n",
            "1997/1997 [==============================] - 3s 2ms/step - loss: 0.0907 - acc: 0.9680 - val_loss: 0.2345 - val_acc: 0.9060\n"
          ],
          "name": "stdout"
        }
      ]
    },
    {
      "cell_type": "code",
      "metadata": {
        "id": "s4L0QSnRvhqU",
        "colab_type": "code",
        "outputId": "0de451f5-b3a2-41b5-a420-64886aba9294",
        "colab": {
          "base_uri": "https://localhost:8080/",
          "height": 545
        }
      },
      "source": [
        "import matplotlib.pyplot as plt\n",
        "acc = history.history['acc']\n",
        "val_acc = history.history['val_acc']\n",
        "loss = history.history['loss']\n",
        "val_loss = history.history['val_loss']\n",
        "epochs = range(1, len(acc) + 1)\n",
        "plt.plot(epochs, acc, 'bo', label='Training acc')\n",
        "plt.plot(epochs, val_acc, 'b', label='Validation acc')\n",
        "plt.title('Training and validation accuracy')\n",
        "plt.legend()\n",
        "plt.figure()\n",
        "plt.plot(epochs, loss, 'bo', label='Training loss')\n",
        "plt.plot(epochs, val_loss, 'b', label='Validation loss')\n",
        "plt.title('Training and validation loss')\n",
        "plt.legend()\n",
        "plt.show()"
      ],
      "execution_count": 0,
      "outputs": [
        {
          "output_type": "display_data",
          "data": {
            "image/png": "[encoded data removed]",
            "text/plain": [
              "<Figure size 432x288 with 1 Axes>"
            ]
          },
          "metadata": {
            "tags": []
          }
        },
        {
          "output_type": "display_data",
          "data": {
            "image/png": "[encoded data removed]",
            "text/plain": [
              "<Figure size 432x288 with 1 Axes>"
            ]
          },
          "metadata": {
            "tags": []
          }
        }
      ]
    },
    {
      "cell_type": "code",
      "metadata": {
        "id": "rt0TyRBTwByT",
        "colab_type": "code",
        "colab": {}
      },
      "source": [
        "#FEATURE EXTRACTION WITH DATA AUGMENTATION"
      ],
      "execution_count": 0,
      "outputs": []
    },
    {
      "cell_type": "code",
      "metadata": {
        "id": "QdeqndLgY2ST",
        "colab_type": "code",
        "colab": {}
      },
      "source": [
        "#Adding a densely connected classifier on top of the convolutional base"
      ],
      "execution_count": 0,
      "outputs": []
    },
    {
      "cell_type": "code",
      "metadata": {
        "id": "CbKxwjXtaJ41",
        "colab_type": "code",
        "colab": {}
      },
      "source": [
        "from keras import models\n",
        "from keras import layers\n",
        "model = models.Sequential()\n",
        "model.add(conv_base)\n",
        "model.add(layers.Flatten())\n",
        "model.add(layers.Dense(256, activation='relu'))\n",
        "model.add(layers.Dense(1, activation='sigmoid'))"
      ],
      "execution_count": 0,
      "outputs": []
    },
    {
      "cell_type": "code",
      "metadata": {
        "id": "XLyvVDfEaMlF",
        "colab_type": "code",
        "colab": {
          "base_uri": "https://localhost:8080/",
          "height": 34
        },
        "outputId": "1ecf2687-f03f-4dd4-9221-c27e6747cda0"
      },
      "source": [
        "print('This is the number of trainable weights '\n",
        "'before freezing the conv base:', len(model.trainable_weights))"
      ],
      "execution_count": 6,
      "outputs": [
        {
          "output_type": "stream",
          "text": [
            "This is the number of trainable weights before freezing the conv base: 30\n"
          ],
          "name": "stdout"
        }
      ]
    },
    {
      "cell_type": "code",
      "metadata": {
        "id": "F1cCzaUWaeSp",
        "colab_type": "code",
        "colab": {}
      },
      "source": [
        "conv_base.trainable = False"
      ],
      "execution_count": 0,
      "outputs": []
    },
    {
      "cell_type": "code",
      "metadata": {
        "id": "getLpmp8amf9",
        "colab_type": "code",
        "colab": {
          "base_uri": "https://localhost:8080/",
          "height": 34
        },
        "outputId": "aae4da99-ddfe-4d34-8084-a638baedea3c"
      },
      "source": [
        "print('This is the number of trainable weights '\n",
        "'after freezing the conv base:', len(model.trainable_weights))"
      ],
      "execution_count": 8,
      "outputs": [
        {
          "output_type": "stream",
          "text": [
            "This is the number of trainable weights after freezing the conv base: 4\n"
          ],
          "name": "stdout"
        }
      ]
    },
    {
      "cell_type": "code",
      "metadata": {
        "id": "PpiPYGQdaoaU",
        "colab_type": "code",
        "colab": {
          "base_uri": "https://localhost:8080/",
          "height": 190
        },
        "outputId": "6fe6841a-fad2-403c-eed5-adf545a178c6"
      },
      "source": [
        "from keras.preprocessing.image import ImageDataGenerator\n",
        "from keras import optimizers\n",
        "train_datagen = ImageDataGenerator(\n",
        "rescale=1./255,\n",
        "rotation_range=40,\n",
        "width_shift_range=0.2,\n",
        "height_shift_range=0.2,\n",
        "shear_range=0.2,\n",
        "zoom_range=0.2,\n",
        "horizontal_flip=True,\n",
        "fill_mode='nearest')\n",
        "test_datagen = ImageDataGenerator(rescale=1./255)\n",
        "train_generator = train_datagen.flow_from_directory(\n",
        "train_dir,\n",
        "target_size=(150, 150),\n",
        "batch_size=20,\n",
        "class_mode='binary')\n",
        "validation_generator = test_datagen.flow_from_directory(\n",
        "validation_dir,\n",
        "target_size=(150, 150),\n",
        "batch_size=20,\n",
        "class_mode='binary')\n",
        "model.compile(loss='binary_crossentropy',\n",
        "optimizer=optimizers.RMSprop(lr=2e-5),\n",
        "metrics=['acc'])\n",
        "history = model.fit_generator(\n",
        "train_generator,\n",
        "steps_per_epoch=100,\n",
        "epochs=30,\n",
        "validation_data=validation_generator,\n",
        "validation_steps=50)"
      ],
      "execution_count": 0,
      "outputs": [
        {
          "output_type": "stream",
          "text": [
            "Found 1997 images belonging to 2 classes.\n",
            "Found 1000 images belonging to 2 classes.\n",
            "WARNING:tensorflow:From /usr/local/lib/python3.6/dist-packages/keras/optimizers.py:793: The name tf.train.Optimizer is deprecated. Please use tf.compat.v1.train.Optimizer instead.\n",
            "\n",
            "WARNING:tensorflow:From /usr/local/lib/python3.6/dist-packages/tensorflow/python/ops/nn_impl.py:180: add_dispatch_support.<locals>.wrapper (from tensorflow.python.ops.array_ops) is deprecated and will be removed in a future version.\n",
            "Instructions for updating:\n",
            "Use tf.where in 2.0, which has the same broadcast rule as np.where\n",
            "Epoch 1/30\n",
            " 17/100 [====>.........................] - ETA: 8:47 - loss: 0.6913 - acc: 0.5676"
          ],
          "name": "stdout"
        }
      ]
    },
    {
      "cell_type": "code",
      "metadata": {
        "id": "bOPQHVwweXAN",
        "colab_type": "code",
        "colab": {}
      },
      "source": [
        "import matplotlib.pyplot as plt\n",
        "acc = history.history['acc']\n",
        "val_acc = history.history['val_acc']\n",
        "loss = history.history['loss']\n",
        "val_loss = history.history['val_loss']\n",
        "epochs = range(1, len(acc) + 1)\n",
        "plt.plot(epochs, acc, 'bo', label='Training acc')\n",
        "plt.plot(epochs, val_acc, 'b', label='Validation acc')\n",
        "plt.title('Training and validation accuracy')\n",
        "plt.legend()\n",
        "plt.figure()\n",
        "plt.plot(epochs, loss, 'bo', label='Training loss')\n",
        "plt.plot(epochs, val_loss, 'b', label='Validation loss')\n",
        "plt.title('Training and validation loss')\n",
        "plt.legend()\n",
        "plt.show()"
      ],
      "execution_count": 0,
      "outputs": []
    }
  ]
}