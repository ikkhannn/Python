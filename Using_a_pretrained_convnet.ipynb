{
  "nbformat": 4,
  "nbformat_minor": 0,
  "metadata": {
    "colab": {
      "name": "Using a pretrained convnet.ipynb",
      "provenance": [],
      "collapsed_sections": []
    },
    "kernelspec": {
      "name": "python3",
      "display_name": "Python 3"
    },
    "accelerator": "GPU"
  },
  "cells": [
    {
      "cell_type": "code",
      "metadata": {
        "id": "4w2QA7X-lZzF",
        "colab_type": "code",
        "outputId": "6fd48546-40d3-4b4a-f5b5-4bdaa87c9355",
        "colab": {
          "base_uri": "https://localhost:8080/",
          "height": 275
        }
      },
      "source": [
        "from keras.applications import VGG16\n",
        "conv_base= VGG16(weights='imagenet',include_top=False,input_shape=(150,150,3))"
      ],
      "execution_count": 3,
      "outputs": [
        {
          "output_type": "stream",
          "text": [
            "WARNING:tensorflow:From /usr/local/lib/python3.6/dist-packages/keras/backend/tensorflow_backend.py:66: The name tf.get_default_graph is deprecated. Please use tf.compat.v1.get_default_graph instead.\n",
            "\n",
            "WARNING:tensorflow:From /usr/local/lib/python3.6/dist-packages/keras/backend/tensorflow_backend.py:541: The name tf.placeholder is deprecated. Please use tf.compat.v1.placeholder instead.\n",
            "\n",
            "WARNING:tensorflow:From /usr/local/lib/python3.6/dist-packages/keras/backend/tensorflow_backend.py:4432: The name tf.random_uniform is deprecated. Please use tf.random.uniform instead.\n",
            "\n",
            "WARNING:tensorflow:From /usr/local/lib/python3.6/dist-packages/keras/backend/tensorflow_backend.py:4267: The name tf.nn.max_pool is deprecated. Please use tf.nn.max_pool2d instead.\n",
            "\n",
            "Downloading data from https://github.com/fchollet/deep-learning-models/releases/download/v0.1/vgg16_weights_tf_dim_ordering_tf_kernels_notop.h5\n",
            "58892288/58889256 [==============================] - 3s 0us/step\n",
            "WARNING:tensorflow:From /usr/local/lib/python3.6/dist-packages/keras/backend/tensorflow_backend.py:190: The name tf.get_default_session is deprecated. Please use tf.compat.v1.get_default_session instead.\n",
            "\n",
            "WARNING:tensorflow:From /usr/local/lib/python3.6/dist-packages/keras/backend/tensorflow_backend.py:197: The name tf.ConfigProto is deprecated. Please use tf.compat.v1.ConfigProto instead.\n",
            "\n"
          ],
          "name": "stdout"
        }
      ]
    },
    {
      "cell_type": "code",
      "metadata": {
        "id": "pd8pu_EemKUh",
        "colab_type": "code",
        "colab": {}
      },
      "source": [
        "import os\n",
        "import numpy as np\n",
        "from keras.preprocessing.image import ImageDataGenerator\n",
        "base_dir = '/content/drive/My Drive/datasets/CD-Dataset'\n",
        "train_dir = os.path.join(base_dir, 'train')\n",
        "validation_dir = os.path.join(base_dir, 'validation')\n",
        "test_dir = os.path.join(base_dir, 'test')\n",
        "datagen = ImageDataGenerator(rescale=1./255)\n",
        "batch_size = 20\n",
        "\n",
        "def extract_features(directory, sample_count):\n",
        "  features = np.zeros(shape=(sample_count, 4, 4, 512))\n",
        "  labels = np.zeros(shape=(sample_count))\n",
        "  generator = datagen.flow_from_directory(directory,target_size=(150, 150),batch_size=batch_size,class_mode='binary')\n",
        "  i=0\n",
        "  for inputs_batch, labels_batch in generator:\n",
        "    features_batch = conv_base.predict(inputs_batch)\n",
        "    features[i * batch_size : (i + 1) * batch_size] = features_batch\n",
        "    labels[i * batch_size : (i + 1) * batch_size] = labels_batch\n",
        "    i += 1\n",
        "    if i * batch_size >= sample_count:\n",
        "      break\n",
        "  return features, labels\n"
      ],
      "execution_count": 0,
      "outputs": []
    },
    {
      "cell_type": "code",
      "metadata": {
        "id": "3l0MwqgUeA4r",
        "colab_type": "code",
        "outputId": "94edfbf1-0a27-43b9-ae20-a77cc2a39934",
        "colab": {
          "base_uri": "https://localhost:8080/",
          "height": 122
        }
      },
      "source": [
        "from google.colab import drive\n",
        "drive.mount('/content/drive')"
      ],
      "execution_count": 2,
      "outputs": [
        {
          "output_type": "stream",
          "text": [
            "Go to this URL in a browser: https://accounts.google.com/o/oauth2/auth?client_id=947318989803-6bn6qk8qdgf4n4g3pfee6491hc0brc4i.apps.googleusercontent.com&redirect_uri=urn%3Aietf%3Awg%3Aoauth%3A2.0%3Aoob&scope=email%20https%3A%2F%2Fwww.googleapis.com%2Fauth%2Fdocs.test%20https%3A%2F%2Fwww.googleapis.com%2Fauth%2Fdrive%20https%3A%2F%2Fwww.googleapis.com%2Fauth%2Fdrive.photos.readonly%20https%3A%2F%2Fwww.googleapis.com%2Fauth%2Fpeopleapi.readonly&response_type=code\n",
            "\n",
            "Enter your authorization code:\n",
            "··········\n",
            "Mounted at /content/drive\n"
          ],
          "name": "stdout"
        }
      ]
    },
    {
      "cell_type": "code",
      "metadata": {
        "id": "dhzORN0keC3H",
        "colab_type": "code",
        "outputId": "1f842656-d1d1-413f-e922-a74808efbf88",
        "colab": {
          "base_uri": "https://localhost:8080/",
          "height": 68
        }
      },
      "source": [
        "train_features, train_labels = extract_features(train_dir, 1997)\n",
        "validation_features, validation_labels = extract_features(validation_dir, 1000)\n",
        "test_features, test_labels = extract_features(test_dir, 1000)"
      ],
      "execution_count": 0,
      "outputs": [
        {
          "output_type": "stream",
          "text": [
            "Found 1997 images belonging to 2 classes.\n",
            "Found 1000 images belonging to 2 classes.\n",
            "Found 1000 images belonging to 2 classes.\n"
          ],
          "name": "stdout"
        }
      ]
    },
    {
      "cell_type": "code",
      "metadata": {
        "id": "8GOOCWHXjf8Z",
        "colab_type": "code",
        "colab": {}
      },
      "source": [
        "train_features = np.reshape(train_features, (1997, 4*4* 512))\n",
        "validation_features = np.reshape(validation_features, (1000, 4*4* 512))\n",
        "test_features = np.reshape(test_features, (1000, 4*4* 512))"
      ],
      "execution_count": 0,
      "outputs": []
    },
    {
      "cell_type": "code",
      "metadata": {
        "id": "jIx7xVp4vWls",
        "colab_type": "code",
        "colab": {}
      },
      "source": [
        "#Defining and training the densely connected classifier"
      ],
      "execution_count": 0,
      "outputs": []
    },
    {
      "cell_type": "code",
      "metadata": {
        "id": "hRXMFLYivcp2",
        "colab_type": "code",
        "outputId": "10f4ed68-36c5-47da-f96f-85942278c75c",
        "colab": {
          "base_uri": "https://localhost:8080/",
          "height": 1000
        }
      },
      "source": [
        "from keras import models\n",
        "from keras import layers\n",
        "from keras import optimizers\n",
        "model = models.Sequential()\n",
        "model.add(layers.Dense(256, activation='relu', input_dim=4 * 4 * 512))\n",
        "model.add(layers.Dropout(0.5))\n",
        "model.add(layers.Dense(1, activation='sigmoid'))\n",
        "model.compile(optimizer=optimizers.RMSprop(lr=2e-5),\n",
        "loss='binary_crossentropy',\n",
        "metrics=['acc'])\n",
        "history = model.fit(train_features, train_labels,\n",
        "epochs=30,\n",
        "batch_size=20,\n",
        "validation_data=(validation_features, validation_labels))\n"
      ],
      "execution_count": 0,
      "outputs": [
        {
          "output_type": "stream",
          "text": [
            "WARNING:tensorflow:From /usr/local/lib/python3.6/dist-packages/keras/backend/tensorflow_backend.py:3733: calling dropout (from tensorflow.python.ops.nn_ops) with keep_prob is deprecated and will be removed in a future version.\n",
            "Instructions for updating:\n",
            "Please use `rate` instead of `keep_prob`. Rate should be set to `rate = 1 - keep_prob`.\n",
            "WARNING:tensorflow:From /usr/local/lib/python3.6/dist-packages/keras/optimizers.py:793: The name tf.train.Optimizer is deprecated. Please use tf.compat.v1.train.Optimizer instead.\n",
            "\n",
            "WARNING:tensorflow:From /usr/local/lib/python3.6/dist-packages/tensorflow/python/ops/nn_impl.py:180: add_dispatch_support.<locals>.wrapper (from tensorflow.python.ops.array_ops) is deprecated and will be removed in a future version.\n",
            "Instructions for updating:\n",
            "Use tf.where in 2.0, which has the same broadcast rule as np.where\n",
            "Train on 1997 samples, validate on 1000 samples\n",
            "Epoch 1/30\n",
            "1997/1997 [==============================] - 3s 2ms/step - loss: 0.6007 - acc: 0.6655 - val_loss: 0.4280 - val_acc: 0.8480\n",
            "Epoch 2/30\n",
            "1997/1997 [==============================] - 3s 2ms/step - loss: 0.4129 - acc: 0.8122 - val_loss: 0.3512 - val_acc: 0.8690\n",
            "Epoch 3/30\n",
            "1997/1997 [==============================] - 3s 1ms/step - loss: 0.3578 - acc: 0.8458 - val_loss: 0.3131 - val_acc: 0.8940\n",
            "Epoch 4/30\n",
            "1997/1997 [==============================] - 3s 1ms/step - loss: 0.3113 - acc: 0.8738 - val_loss: 0.2894 - val_acc: 0.8900\n",
            "Epoch 5/30\n",
            "1997/1997 [==============================] - 3s 1ms/step - loss: 0.2811 - acc: 0.8868 - val_loss: 0.2747 - val_acc: 0.8940\n",
            "Epoch 6/30\n",
            "1997/1997 [==============================] - 3s 2ms/step - loss: 0.2573 - acc: 0.9019 - val_loss: 0.2788 - val_acc: 0.8820\n",
            "Epoch 7/30\n",
            "1997/1997 [==============================] - 3s 2ms/step - loss: 0.2414 - acc: 0.9029 - val_loss: 0.2715 - val_acc: 0.8860\n",
            "Epoch 8/30\n",
            "1997/1997 [==============================] - 3s 1ms/step - loss: 0.2278 - acc: 0.9149 - val_loss: 0.2525 - val_acc: 0.9000\n",
            "Epoch 9/30\n",
            "1997/1997 [==============================] - 3s 1ms/step - loss: 0.2171 - acc: 0.9189 - val_loss: 0.2453 - val_acc: 0.8990\n",
            "Epoch 10/30\n",
            "1997/1997 [==============================] - 3s 2ms/step - loss: 0.2055 - acc: 0.9184 - val_loss: 0.2437 - val_acc: 0.8990\n",
            "Epoch 11/30\n",
            "1997/1997 [==============================] - 3s 1ms/step - loss: 0.1923 - acc: 0.9269 - val_loss: 0.2473 - val_acc: 0.8990\n",
            "Epoch 12/30\n",
            "1997/1997 [==============================] - 3s 2ms/step - loss: 0.1866 - acc: 0.9304 - val_loss: 0.2357 - val_acc: 0.9010\n",
            "Epoch 13/30\n",
            "1997/1997 [==============================] - 3s 2ms/step - loss: 0.1769 - acc: 0.9404 - val_loss: 0.2364 - val_acc: 0.9040\n",
            "Epoch 14/30\n",
            "1997/1997 [==============================] - 3s 2ms/step - loss: 0.1648 - acc: 0.9444 - val_loss: 0.2341 - val_acc: 0.9030\n",
            "Epoch 15/30\n",
            "1997/1997 [==============================] - 3s 2ms/step - loss: 0.1644 - acc: 0.9399 - val_loss: 0.2344 - val_acc: 0.9050\n",
            "Epoch 16/30\n",
            "1997/1997 [==============================] - 3s 2ms/step - loss: 0.1542 - acc: 0.9454 - val_loss: 0.2342 - val_acc: 0.9050\n",
            "Epoch 17/30\n",
            "1997/1997 [==============================] - 3s 1ms/step - loss: 0.1442 - acc: 0.9504 - val_loss: 0.2308 - val_acc: 0.9050\n",
            "Epoch 18/30\n",
            "1997/1997 [==============================] - 3s 1ms/step - loss: 0.1464 - acc: 0.9469 - val_loss: 0.2307 - val_acc: 0.9030\n",
            "Epoch 19/30\n",
            "1997/1997 [==============================] - 3s 2ms/step - loss: 0.1356 - acc: 0.9539 - val_loss: 0.2405 - val_acc: 0.8990\n",
            "Epoch 20/30\n",
            "1997/1997 [==============================] - 3s 2ms/step - loss: 0.1305 - acc: 0.9564 - val_loss: 0.2321 - val_acc: 0.9030\n",
            "Epoch 21/30\n",
            "1997/1997 [==============================] - 3s 2ms/step - loss: 0.1218 - acc: 0.9594 - val_loss: 0.2309 - val_acc: 0.9040\n",
            "Epoch 22/30\n",
            "1997/1997 [==============================] - 3s 2ms/step - loss: 0.1247 - acc: 0.9584 - val_loss: 0.2314 - val_acc: 0.9010\n",
            "Epoch 23/30\n",
            "1997/1997 [==============================] - 3s 2ms/step - loss: 0.1142 - acc: 0.9619 - val_loss: 0.2308 - val_acc: 0.9020\n",
            "Epoch 24/30\n",
            "1997/1997 [==============================] - 3s 2ms/step - loss: 0.1082 - acc: 0.9624 - val_loss: 0.2311 - val_acc: 0.9030\n",
            "Epoch 25/30\n",
            "1997/1997 [==============================] - 3s 2ms/step - loss: 0.1066 - acc: 0.9649 - val_loss: 0.2336 - val_acc: 0.9030\n",
            "Epoch 26/30\n",
            "1997/1997 [==============================] - 3s 2ms/step - loss: 0.0966 - acc: 0.9710 - val_loss: 0.2504 - val_acc: 0.8960\n",
            "Epoch 27/30\n",
            "1997/1997 [==============================] - 3s 1ms/step - loss: 0.0970 - acc: 0.9695 - val_loss: 0.2386 - val_acc: 0.9020\n",
            "Epoch 28/30\n",
            "1997/1997 [==============================] - 3s 2ms/step - loss: 0.0920 - acc: 0.9740 - val_loss: 0.2478 - val_acc: 0.8960\n",
            "Epoch 29/30\n",
            "1997/1997 [==============================] - 3s 1ms/step - loss: 0.0893 - acc: 0.9735 - val_loss: 0.2357 - val_acc: 0.9030\n",
            "Epoch 30/30\n",
            "1997/1997 [==============================] - 3s 2ms/step - loss: 0.0907 - acc: 0.9680 - val_loss: 0.2345 - val_acc: 0.9060\n"
          ],
          "name": "stdout"
        }
      ]
    },
    {
      "cell_type": "code",
      "metadata": {
        "id": "s4L0QSnRvhqU",
        "colab_type": "code",
        "outputId": "0de451f5-b3a2-41b5-a420-64886aba9294",
        "colab": {
          "base_uri": "https://localhost:8080/",
          "height": 545
        }
      },
      "source": [
        "import matplotlib.pyplot as plt\n",
        "acc = history.history['acc']\n",
        "val_acc = history.history['val_acc']\n",
        "loss = history.history['loss']\n",
        "val_loss = history.history['val_loss']\n",
        "epochs = range(1, len(acc) + 1)\n",
        "plt.plot(epochs, acc, 'bo', label='Training acc')\n",
        "plt.plot(epochs, val_acc, 'b', label='Validation acc')\n",
        "plt.title('Training and validation accuracy')\n",
        "plt.legend()\n",
        "plt.figure()\n",
        "plt.plot(epochs, loss, 'bo', label='Training loss')\n",
        "plt.plot(epochs, val_loss, 'b', label='Validation loss')\n",
        "plt.title('Training and validation loss')\n",
        "plt.legend()\n",
        "plt.show()"
      ],
      "execution_count": 0,
      "outputs": [
        {
          "output_type": "display_data",
          "data": {
            "image/png": "[encoded data removed]",
            "text/plain": [
              "<Figure size 432x288 with 1 Axes>"
            ]
          },
          "metadata": {
            "tags": []
          }
        },
        {
          "output_type": "display_data",
          "data": {
            "image/png": "[encoded data removed]",
            "text/plain": [
              "<Figure size 432x288 with 1 Axes>"
            ]
          },
          "metadata": {
            "tags": []
          }
        }
      ]
    },
    {
      "cell_type": "code",
      "metadata": {
        "id": "rt0TyRBTwByT",
        "colab_type": "code",
        "colab": {}
      },
      "source": [
        "#FEATURE EXTRACTION WITH DATA AUGMENTATION"
      ],
      "execution_count": 0,
      "outputs": []
    },
    {
      "cell_type": "code",
      "metadata": {
        "id": "QdeqndLgY2ST",
        "colab_type": "code",
        "colab": {}
      },
      "source": [
        "#Adding a densely connected classifier on top of the convolutional base"
      ],
      "execution_count": 0,
      "outputs": []
    },
    {
      "cell_type": "code",
      "metadata": {
        "id": "CbKxwjXtaJ41",
        "colab_type": "code",
        "colab": {}
      },
      "source": [
        "from keras import models\n",
        "from keras import layers\n",
        "model = models.Sequential()\n",
        "model.add(conv_base)\n",
        "model.add(layers.Flatten())\n",
        "model.add(layers.Dense(256, activation='relu'))\n",
        "model.add(layers.Dense(1, activation='sigmoid'))"
      ],
      "execution_count": 0,
      "outputs": []
    },
    {
      "cell_type": "code",
      "metadata": {
        "id": "XLyvVDfEaMlF",
        "colab_type": "code",
        "colab": {
          "base_uri": "https://localhost:8080/",
          "height": 34
        },
        "outputId": "1ecf2687-f03f-4dd4-9221-c27e6747cda0"
      },
      "source": [
        "print('This is the number of trainable weights '\n",
        "'before freezing the conv base:', len(model.trainable_weights))"
      ],
      "execution_count": 6,
      "outputs": [
        {
          "output_type": "stream",
          "text": [
            "This is the number of trainable weights before freezing the conv base: 30\n"
          ],
          "name": "stdout"
        }
      ]
    },
    {
      "cell_type": "code",
      "metadata": {
        "id": "F1cCzaUWaeSp",
        "colab_type": "code",
        "colab": {}
      },
      "source": [
        "conv_base.trainable = False"
      ],
      "execution_count": 0,
      "outputs": []
    },
    {
      "cell_type": "code",
      "metadata": {
        "id": "getLpmp8amf9",
        "colab_type": "code",
        "colab": {
          "base_uri": "https://localhost:8080/",
          "height": 34
        },
        "outputId": "aae4da99-ddfe-4d34-8084-a638baedea3c"
      },
      "source": [
        "print('This is the number of trainable weights '\n",
        "'after freezing the conv base:', len(model.trainable_weights))"
      ],
      "execution_count": 8,
      "outputs": [
        {
          "output_type": "stream",
          "text": [
            "This is the number of trainable weights after freezing the conv base: 4\n"
          ],
          "name": "stdout"
        }
      ]
    },
    {
      "cell_type": "code",
      "metadata": {
        "id": "PpiPYGQdaoaU",
        "colab_type": "code",
        "colab": {
          "base_uri": "https://localhost:8080/",
          "height": 1000
        },
        "outputId": "6fe6841a-fad2-403c-eed5-adf545a178c6"
      },
      "source": [
        "from keras.preprocessing.image import ImageDataGenerator\n",
        "from keras import optimizers\n",
        "train_datagen = ImageDataGenerator(\n",
        "rescale=1./255,\n",
        "rotation_range=40,\n",
        "width_shift_range=0.2,\n",
        "height_shift_range=0.2,\n",
        "shear_range=0.2,\n",
        "zoom_range=0.2,\n",
        "horizontal_flip=True,\n",
        "fill_mode='nearest')\n",
        "test_datagen = ImageDataGenerator(rescale=1./255)\n",
        "train_generator = train_datagen.flow_from_directory(\n",
        "train_dir,\n",
        "target_size=(150, 150),\n",
        "batch_size=20,\n",
        "class_mode='binary')\n",
        "validation_generator = test_datagen.flow_from_directory(\n",
        "validation_dir,\n",
        "target_size=(150, 150),\n",
        "batch_size=20,\n",
        "class_mode='binary')\n",
        "model.compile(loss='binary_crossentropy',\n",
        "optimizer=optimizers.RMSprop(lr=2e-5),\n",
        "metrics=['acc'])\n",
        "history = model.fit_generator(\n",
        "train_generator,\n",
        "steps_per_epoch=100,\n",
        "epochs=30,\n",
        "validation_data=validation_generator,\n",
        "validation_steps=50)"
      ],
      "execution_count": 9,
      "outputs": [
        {
          "output_type": "stream",
          "text": [
            "Found 1997 images belonging to 2 classes.\n",
            "Found 1000 images belonging to 2 classes.\n",
            "WARNING:tensorflow:From /usr/local/lib/python3.6/dist-packages/keras/optimizers.py:793: The name tf.train.Optimizer is deprecated. Please use tf.compat.v1.train.Optimizer instead.\n",
            "\n",
            "WARNING:tensorflow:From /usr/local/lib/python3.6/dist-packages/tensorflow/python/ops/nn_impl.py:180: add_dispatch_support.<locals>.wrapper (from tensorflow.python.ops.array_ops) is deprecated and will be removed in a future version.\n",
            "Instructions for updating:\n",
            "Use tf.where in 2.0, which has the same broadcast rule as np.where\n",
            "Epoch 1/30\n",
            "100/100 [==============================] - 910s 9s/step - loss: 0.6008 - acc: 0.6930 - val_loss: 0.4539 - val_acc: 0.8370\n",
            "Epoch 2/30\n",
            "100/100 [==============================] - 26s 262ms/step - loss: 0.4900 - acc: 0.7807 - val_loss: 0.3746 - val_acc: 0.8520\n",
            "Epoch 3/30\n",
            "100/100 [==============================] - 26s 265ms/step - loss: 0.4322 - acc: 0.8181 - val_loss: 0.3335 - val_acc: 0.8730\n",
            "Epoch 4/30\n",
            "100/100 [==============================] - 27s 265ms/step - loss: 0.4055 - acc: 0.8183 - val_loss: 0.3081 - val_acc: 0.8820\n",
            "Epoch 5/30\n",
            "100/100 [==============================] - 26s 263ms/step - loss: 0.3863 - acc: 0.8243 - val_loss: 0.3036 - val_acc: 0.8800\n",
            "Epoch 6/30\n",
            "100/100 [==============================] - 26s 262ms/step - loss: 0.3881 - acc: 0.8201 - val_loss: 0.2865 - val_acc: 0.8820\n",
            "Epoch 7/30\n",
            "100/100 [==============================] - 27s 267ms/step - loss: 0.3638 - acc: 0.8364 - val_loss: 0.2829 - val_acc: 0.8790\n",
            "Epoch 8/30\n",
            "100/100 [==============================] - 26s 263ms/step - loss: 0.3461 - acc: 0.8529 - val_loss: 0.2703 - val_acc: 0.8910\n",
            "Epoch 9/30\n",
            "100/100 [==============================] - 27s 268ms/step - loss: 0.3341 - acc: 0.8559 - val_loss: 0.2606 - val_acc: 0.9020\n",
            "Epoch 10/30\n",
            "100/100 [==============================] - 27s 269ms/step - loss: 0.3427 - acc: 0.8479 - val_loss: 0.2567 - val_acc: 0.9010\n",
            "Epoch 11/30\n",
            "100/100 [==============================] - 28s 279ms/step - loss: 0.3343 - acc: 0.8626 - val_loss: 0.2537 - val_acc: 0.9080\n",
            "Epoch 12/30\n",
            "100/100 [==============================] - 28s 279ms/step - loss: 0.3342 - acc: 0.8497 - val_loss: 0.2538 - val_acc: 0.9000\n",
            "Epoch 13/30\n",
            "100/100 [==============================] - 28s 279ms/step - loss: 0.3364 - acc: 0.8493 - val_loss: 0.2521 - val_acc: 0.9050\n",
            "Epoch 14/30\n",
            "100/100 [==============================] - 28s 276ms/step - loss: 0.3068 - acc: 0.8729 - val_loss: 0.2498 - val_acc: 0.9020\n",
            "Epoch 15/30\n",
            "100/100 [==============================] - 27s 266ms/step - loss: 0.3202 - acc: 0.8653 - val_loss: 0.2476 - val_acc: 0.8980\n",
            "Epoch 16/30\n",
            "100/100 [==============================] - 27s 265ms/step - loss: 0.3154 - acc: 0.8674 - val_loss: 0.2491 - val_acc: 0.8980\n",
            "Epoch 17/30\n",
            "100/100 [==============================] - 27s 266ms/step - loss: 0.3185 - acc: 0.8574 - val_loss: 0.2415 - val_acc: 0.9050\n",
            "Epoch 18/30\n",
            "100/100 [==============================] - 28s 282ms/step - loss: 0.2967 - acc: 0.8773 - val_loss: 0.2408 - val_acc: 0.9090\n",
            "Epoch 19/30\n",
            "100/100 [==============================] - 28s 278ms/step - loss: 0.2937 - acc: 0.8782 - val_loss: 0.2438 - val_acc: 0.9010\n",
            "Epoch 20/30\n",
            "100/100 [==============================] - 27s 274ms/step - loss: 0.3066 - acc: 0.8654 - val_loss: 0.2417 - val_acc: 0.9060\n",
            "Epoch 21/30\n",
            "100/100 [==============================] - 26s 264ms/step - loss: 0.2971 - acc: 0.8718 - val_loss: 0.2539 - val_acc: 0.8940\n",
            "Epoch 22/30\n",
            "100/100 [==============================] - 26s 264ms/step - loss: 0.3116 - acc: 0.8581 - val_loss: 0.2408 - val_acc: 0.9030\n",
            "Epoch 23/30\n",
            "100/100 [==============================] - 26s 264ms/step - loss: 0.3048 - acc: 0.8702 - val_loss: 0.2365 - val_acc: 0.9050\n",
            "Epoch 24/30\n",
            "100/100 [==============================] - 26s 264ms/step - loss: 0.2832 - acc: 0.8786 - val_loss: 0.2410 - val_acc: 0.9020\n",
            "Epoch 25/30\n",
            "100/100 [==============================] - 26s 265ms/step - loss: 0.2859 - acc: 0.8754 - val_loss: 0.2355 - val_acc: 0.9010\n",
            "Epoch 26/30\n",
            "100/100 [==============================] - 27s 266ms/step - loss: 0.2883 - acc: 0.8715 - val_loss: 0.2433 - val_acc: 0.9000\n",
            "Epoch 27/30\n",
            "100/100 [==============================] - 26s 264ms/step - loss: 0.2974 - acc: 0.8690 - val_loss: 0.2360 - val_acc: 0.9080\n",
            "Epoch 28/30\n",
            "100/100 [==============================] - 26s 263ms/step - loss: 0.2778 - acc: 0.8804 - val_loss: 0.2438 - val_acc: 0.9060\n",
            "Epoch 29/30\n",
            "100/100 [==============================] - 26s 263ms/step - loss: 0.2881 - acc: 0.8719 - val_loss: 0.2363 - val_acc: 0.9090\n",
            "Epoch 30/30\n",
            "100/100 [==============================] - 26s 264ms/step - loss: 0.2920 - acc: 0.8736 - val_loss: 0.2359 - val_acc: 0.9070\n"
          ],
          "name": "stdout"
        }
      ]
    },
    {
      "cell_type": "code",
      "metadata": {
        "id": "bOPQHVwweXAN",
        "colab_type": "code",
        "colab": {
          "base_uri": "https://localhost:8080/",
          "height": 545
        },
        "outputId": "32dc75a4-df7b-4b09-d442-40be96d692bd"
      },
      "source": [
        "import matplotlib.pyplot as plt\n",
        "acc = history.history['acc']\n",
        "val_acc = history.history['val_acc']\n",
        "loss = history.history['loss']\n",
        "val_loss = history.history['val_loss']\n",
        "epochs = range(1, len(acc) + 1)\n",
        "plt.plot(epochs, acc, 'bo', label='Training acc')\n",
        "plt.plot(epochs, val_acc, 'b', label='Validation acc')\n",
        "plt.title('Training and validation accuracy')\n",
        "plt.legend()\n",
        "plt.figure()\n",
        "plt.plot(epochs, loss, 'bo', label='Training loss')\n",
        "plt.plot(epochs, val_loss, 'b', label='Validation loss')\n",
        "plt.title('Training and validation loss')\n",
        "plt.legend()\n",
        "plt.show()"
      ],
      "execution_count": 11,
      "outputs": [
        {
          "output_type": "display_data",
          "data": {
            "image/png": "[encoded data removed]",
            "text/plain": [
              "<Figure size 432x288 with 1 Axes>"
            ]
          },
          "metadata": {
            "tags": []
          }
        },
        {
          "output_type": "display_data",
          "data": {
            "image/png": "[encoded data removed]",
            "text/plain": [
              "<Figure size 432x288 with 1 Axes>"
            ]
          },
          "metadata": {
            "tags": []
          }
        }
      ]
    },
    {
      "cell_type": "code",
      "metadata": {
        "id": "oVWqOer2s5rw",
        "colab_type": "code",
        "colab": {}
      },
      "source": [
        "# Fine-tuning the model"
      ],
      "execution_count": 0,
      "outputs": []
    },
    {
      "cell_type": "code",
      "metadata": {
        "id": "bxuQG17n__GY",
        "colab_type": "code",
        "colab": {}
      },
      "source": [
        "conv_base.trainable = True\n",
        "set_trainable = False\n",
        "for layer in conv_base.layers:\n",
        "  if layer.name == 'block5_conv1':\n",
        "    set_trainable = True\n",
        "  if set_trainable:\n",
        "    layer.trainable = True\n",
        "  else:\n",
        "    layer.trainable = False"
      ],
      "execution_count": 0,
      "outputs": []
    },
    {
      "cell_type": "code",
      "metadata": {
        "id": "BP1UTVzNADRS",
        "colab_type": "code",
        "colab": {
          "base_uri": "https://localhost:8080/",
          "height": 1000
        },
        "outputId": "82f26472-a43c-4446-9922-0dbf35f0412b"
      },
      "source": [
        "model.compile(loss='binary_crossentropy',\n",
        "optimizer=optimizers.RMSprop(lr=1e-5),\n",
        "metrics=['acc'])\n",
        "history = model.fit_generator(\n",
        "train_generator,\n",
        "steps_per_epoch=100,\n",
        "epochs=100,\n",
        "validation_data=validation_generator,\n",
        "validation_steps=50)"
      ],
      "execution_count": 16,
      "outputs": [
        {
          "output_type": "stream",
          "text": [
            "Epoch 1/100\n",
            "100/100 [==============================] - 30s 302ms/step - loss: 0.2882 - acc: 0.8793 - val_loss: 0.2400 - val_acc: 0.9000\n",
            "Epoch 2/100\n",
            "100/100 [==============================] - 28s 276ms/step - loss: 0.2532 - acc: 0.8943 - val_loss: 0.2156 - val_acc: 0.9190\n",
            "Epoch 3/100\n",
            "100/100 [==============================] - 28s 276ms/step - loss: 0.2451 - acc: 0.8990 - val_loss: 0.1971 - val_acc: 0.9180\n",
            "Epoch 4/100\n",
            "100/100 [==============================] - 28s 277ms/step - loss: 0.2208 - acc: 0.9074 - val_loss: 0.2367 - val_acc: 0.9050\n",
            "Epoch 5/100\n",
            "100/100 [==============================] - 28s 282ms/step - loss: 0.2207 - acc: 0.9033 - val_loss: 0.1902 - val_acc: 0.9190\n",
            "Epoch 6/100\n",
            "100/100 [==============================] - 27s 274ms/step - loss: 0.1910 - acc: 0.9239 - val_loss: 0.1868 - val_acc: 0.9250\n",
            "Epoch 7/100\n",
            "100/100 [==============================] - 28s 283ms/step - loss: 0.1808 - acc: 0.9265 - val_loss: 0.2052 - val_acc: 0.9190\n",
            "Epoch 8/100\n",
            "100/100 [==============================] - 28s 278ms/step - loss: 0.1756 - acc: 0.9359 - val_loss: 0.1883 - val_acc: 0.9300\n",
            "Epoch 9/100\n",
            "100/100 [==============================] - 28s 283ms/step - loss: 0.1621 - acc: 0.9320 - val_loss: 0.1895 - val_acc: 0.9300\n",
            "Epoch 10/100\n",
            "100/100 [==============================] - 28s 278ms/step - loss: 0.1512 - acc: 0.9390 - val_loss: 0.1758 - val_acc: 0.9350\n",
            "Epoch 11/100\n",
            "100/100 [==============================] - 28s 283ms/step - loss: 0.1494 - acc: 0.9379 - val_loss: 0.1736 - val_acc: 0.9300\n",
            "Epoch 12/100\n",
            "100/100 [==============================] - 28s 278ms/step - loss: 0.1260 - acc: 0.9488 - val_loss: 0.1959 - val_acc: 0.9330\n",
            "Epoch 13/100\n",
            "100/100 [==============================] - 27s 271ms/step - loss: 0.1366 - acc: 0.9425 - val_loss: 0.1891 - val_acc: 0.9250\n",
            "Epoch 14/100\n",
            "100/100 [==============================] - 27s 272ms/step - loss: 0.1307 - acc: 0.9499 - val_loss: 0.1839 - val_acc: 0.9310\n",
            "Epoch 15/100\n",
            "100/100 [==============================] - 28s 278ms/step - loss: 0.1187 - acc: 0.9494 - val_loss: 0.1843 - val_acc: 0.9380\n",
            "Epoch 16/100\n",
            "100/100 [==============================] - 28s 279ms/step - loss: 0.1197 - acc: 0.9519 - val_loss: 0.2749 - val_acc: 0.9100\n",
            "Epoch 17/100\n",
            "100/100 [==============================] - 28s 277ms/step - loss: 0.1051 - acc: 0.9615 - val_loss: 0.1789 - val_acc: 0.9370\n",
            "Epoch 18/100\n",
            "100/100 [==============================] - 28s 282ms/step - loss: 0.1176 - acc: 0.9530 - val_loss: 0.1918 - val_acc: 0.9320\n",
            "Epoch 19/100\n",
            "100/100 [==============================] - 28s 282ms/step - loss: 0.0938 - acc: 0.9635 - val_loss: 0.1727 - val_acc: 0.9370\n",
            "Epoch 20/100\n",
            "100/100 [==============================] - 28s 279ms/step - loss: 0.1007 - acc: 0.9600 - val_loss: 0.1932 - val_acc: 0.9310\n",
            "Epoch 21/100\n",
            "100/100 [==============================] - 28s 279ms/step - loss: 0.0883 - acc: 0.9705 - val_loss: 0.1718 - val_acc: 0.9280\n",
            "Epoch 22/100\n",
            "100/100 [==============================] - 27s 273ms/step - loss: 0.0874 - acc: 0.9660 - val_loss: 0.2847 - val_acc: 0.9130\n",
            "Epoch 23/100\n",
            "100/100 [==============================] - 27s 270ms/step - loss: 0.0850 - acc: 0.9659 - val_loss: 0.2902 - val_acc: 0.9130\n",
            "Epoch 24/100\n",
            "100/100 [==============================] - 27s 269ms/step - loss: 0.0824 - acc: 0.9694 - val_loss: 0.2103 - val_acc: 0.9310\n",
            "Epoch 25/100\n",
            "100/100 [==============================] - 28s 276ms/step - loss: 0.0948 - acc: 0.9670 - val_loss: 0.2056 - val_acc: 0.9320\n",
            "Epoch 26/100\n",
            "100/100 [==============================] - 28s 276ms/step - loss: 0.0824 - acc: 0.9705 - val_loss: 0.3140 - val_acc: 0.9110\n",
            "Epoch 27/100\n",
            "100/100 [==============================] - 27s 269ms/step - loss: 0.0796 - acc: 0.9740 - val_loss: 0.1829 - val_acc: 0.9300\n",
            "Epoch 28/100\n",
            "100/100 [==============================] - 27s 270ms/step - loss: 0.0868 - acc: 0.9679 - val_loss: 0.1730 - val_acc: 0.9320\n",
            "Epoch 29/100\n",
            "100/100 [==============================] - 28s 276ms/step - loss: 0.0638 - acc: 0.9773 - val_loss: 0.2182 - val_acc: 0.9310\n",
            "Epoch 30/100\n",
            "100/100 [==============================] - 28s 277ms/step - loss: 0.0715 - acc: 0.9705 - val_loss: 0.2789 - val_acc: 0.9150\n",
            "Epoch 31/100\n",
            "100/100 [==============================] - 27s 272ms/step - loss: 0.0738 - acc: 0.9745 - val_loss: 0.1880 - val_acc: 0.9240\n",
            "Epoch 32/100\n",
            "100/100 [==============================] - 27s 271ms/step - loss: 0.0726 - acc: 0.9703 - val_loss: 0.1724 - val_acc: 0.9390\n",
            "Epoch 33/100\n",
            "100/100 [==============================] - 27s 269ms/step - loss: 0.0603 - acc: 0.9765 - val_loss: 0.2427 - val_acc: 0.9280\n",
            "Epoch 34/100\n",
            "100/100 [==============================] - 28s 281ms/step - loss: 0.0691 - acc: 0.9730 - val_loss: 0.2040 - val_acc: 0.9360\n",
            "Epoch 35/100\n",
            "100/100 [==============================] - 27s 272ms/step - loss: 0.0531 - acc: 0.9790 - val_loss: 0.1833 - val_acc: 0.9390\n",
            "Epoch 36/100\n",
            "100/100 [==============================] - 27s 270ms/step - loss: 0.0616 - acc: 0.9764 - val_loss: 0.2877 - val_acc: 0.9210\n",
            "Epoch 37/100\n",
            "100/100 [==============================] - 27s 271ms/step - loss: 0.0586 - acc: 0.9765 - val_loss: 0.1925 - val_acc: 0.9380\n",
            "Epoch 38/100\n",
            "100/100 [==============================] - 27s 274ms/step - loss: 0.0597 - acc: 0.9765 - val_loss: 0.1745 - val_acc: 0.9440\n",
            "Epoch 39/100\n",
            "100/100 [==============================] - 28s 276ms/step - loss: 0.0522 - acc: 0.9825 - val_loss: 0.1964 - val_acc: 0.9340\n",
            "Epoch 40/100\n",
            "100/100 [==============================] - 27s 270ms/step - loss: 0.0515 - acc: 0.9830 - val_loss: 0.2023 - val_acc: 0.9430\n",
            "Epoch 41/100\n",
            "100/100 [==============================] - 27s 273ms/step - loss: 0.0535 - acc: 0.9825 - val_loss: 0.2155 - val_acc: 0.9280\n",
            "Epoch 42/100\n",
            "100/100 [==============================] - 28s 281ms/step - loss: 0.0540 - acc: 0.9785 - val_loss: 0.2508 - val_acc: 0.9220\n",
            "Epoch 43/100\n",
            "100/100 [==============================] - 27s 274ms/step - loss: 0.0432 - acc: 0.9830 - val_loss: 0.2068 - val_acc: 0.9380\n",
            "Epoch 44/100\n",
            "100/100 [==============================] - 27s 273ms/step - loss: 0.0546 - acc: 0.9800 - val_loss: 0.2040 - val_acc: 0.9460\n",
            "Epoch 45/100\n",
            "100/100 [==============================] - 28s 277ms/step - loss: 0.0386 - acc: 0.9875 - val_loss: 0.1954 - val_acc: 0.9410\n",
            "Epoch 46/100\n",
            "100/100 [==============================] - 29s 287ms/step - loss: 0.0474 - acc: 0.9875 - val_loss: 0.2411 - val_acc: 0.9340\n",
            "Epoch 47/100\n",
            "100/100 [==============================] - 28s 281ms/step - loss: 0.0415 - acc: 0.9855 - val_loss: 0.2441 - val_acc: 0.9360\n",
            "Epoch 48/100\n",
            "100/100 [==============================] - 28s 281ms/step - loss: 0.0450 - acc: 0.9815 - val_loss: 0.2210 - val_acc: 0.9410\n",
            "Epoch 49/100\n",
            "100/100 [==============================] - 28s 282ms/step - loss: 0.0404 - acc: 0.9840 - val_loss: 0.1721 - val_acc: 0.9440\n",
            "Epoch 50/100\n",
            "100/100 [==============================] - 28s 285ms/step - loss: 0.0369 - acc: 0.9865 - val_loss: 0.1993 - val_acc: 0.9410\n",
            "Epoch 51/100\n",
            "100/100 [==============================] - 28s 276ms/step - loss: 0.0388 - acc: 0.9855 - val_loss: 0.2226 - val_acc: 0.9420\n",
            "Epoch 52/100\n",
            "100/100 [==============================] - 27s 275ms/step - loss: 0.0397 - acc: 0.9860 - val_loss: 0.2120 - val_acc: 0.9420\n",
            "Epoch 53/100\n",
            "100/100 [==============================] - 27s 275ms/step - loss: 0.0451 - acc: 0.9834 - val_loss: 0.2096 - val_acc: 0.9430\n",
            "Epoch 54/100\n",
            "100/100 [==============================] - 28s 280ms/step - loss: 0.0403 - acc: 0.9869 - val_loss: 0.2101 - val_acc: 0.9430\n",
            "Epoch 55/100\n",
            "100/100 [==============================] - 28s 276ms/step - loss: 0.0334 - acc: 0.9870 - val_loss: 0.2341 - val_acc: 0.9380\n",
            "Epoch 56/100\n",
            "100/100 [==============================] - 27s 274ms/step - loss: 0.0343 - acc: 0.9900 - val_loss: 0.2216 - val_acc: 0.9470\n",
            "Epoch 57/100\n",
            "100/100 [==============================] - 27s 272ms/step - loss: 0.0310 - acc: 0.9900 - val_loss: 0.2028 - val_acc: 0.9470\n",
            "Epoch 58/100\n",
            "100/100 [==============================] - 28s 278ms/step - loss: 0.0423 - acc: 0.9840 - val_loss: 0.2352 - val_acc: 0.9360\n",
            "Epoch 59/100\n",
            "100/100 [==============================] - 28s 277ms/step - loss: 0.0405 - acc: 0.9855 - val_loss: 0.3560 - val_acc: 0.9150\n",
            "Epoch 60/100\n",
            "100/100 [==============================] - 28s 282ms/step - loss: 0.0404 - acc: 0.9880 - val_loss: 0.2927 - val_acc: 0.9260\n",
            "Epoch 61/100\n",
            "100/100 [==============================] - 28s 280ms/step - loss: 0.0347 - acc: 0.9875 - val_loss: 0.2175 - val_acc: 0.9340\n",
            "Epoch 62/100\n",
            "100/100 [==============================] - 27s 275ms/step - loss: 0.0280 - acc: 0.9910 - val_loss: 0.2156 - val_acc: 0.9440\n",
            "Epoch 63/100\n",
            "100/100 [==============================] - 29s 287ms/step - loss: 0.0251 - acc: 0.9900 - val_loss: 0.2359 - val_acc: 0.9450\n",
            "Epoch 64/100\n",
            "100/100 [==============================] - 28s 276ms/step - loss: 0.0308 - acc: 0.9910 - val_loss: 0.2891 - val_acc: 0.9330\n",
            "Epoch 65/100\n",
            "100/100 [==============================] - 27s 273ms/step - loss: 0.0323 - acc: 0.9903 - val_loss: 0.2495 - val_acc: 0.9360\n",
            "Epoch 66/100\n",
            "100/100 [==============================] - 27s 271ms/step - loss: 0.0227 - acc: 0.9905 - val_loss: 0.2105 - val_acc: 0.9400\n",
            "Epoch 67/100\n",
            "100/100 [==============================] - 27s 272ms/step - loss: 0.0321 - acc: 0.9885 - val_loss: 0.2271 - val_acc: 0.9440\n",
            "Epoch 68/100\n",
            "100/100 [==============================] - 27s 272ms/step - loss: 0.0273 - acc: 0.9905 - val_loss: 0.2265 - val_acc: 0.9450\n",
            "Epoch 69/100\n",
            "100/100 [==============================] - 28s 279ms/step - loss: 0.0243 - acc: 0.9930 - val_loss: 0.4519 - val_acc: 0.9170\n",
            "Epoch 70/100\n",
            "100/100 [==============================] - 28s 277ms/step - loss: 0.0457 - acc: 0.9845 - val_loss: 0.2363 - val_acc: 0.9400\n",
            "Epoch 71/100\n",
            "100/100 [==============================] - 28s 282ms/step - loss: 0.0214 - acc: 0.9909 - val_loss: 0.2294 - val_acc: 0.9470\n",
            "Epoch 72/100\n",
            "100/100 [==============================] - 28s 280ms/step - loss: 0.0198 - acc: 0.9935 - val_loss: 0.2448 - val_acc: 0.9390\n",
            "Epoch 73/100\n",
            "100/100 [==============================] - 28s 277ms/step - loss: 0.0248 - acc: 0.9915 - val_loss: 0.2213 - val_acc: 0.9430\n",
            "Epoch 74/100\n",
            "100/100 [==============================] - 28s 276ms/step - loss: 0.0231 - acc: 0.9935 - val_loss: 0.3248 - val_acc: 0.9210\n",
            "Epoch 75/100\n",
            "100/100 [==============================] - 28s 276ms/step - loss: 0.0287 - acc: 0.9925 - val_loss: 0.2910 - val_acc: 0.9370\n",
            "Epoch 76/100\n",
            "100/100 [==============================] - 29s 285ms/step - loss: 0.0293 - acc: 0.9910 - val_loss: 0.2251 - val_acc: 0.9380\n",
            "Epoch 77/100\n",
            "100/100 [==============================] - 28s 281ms/step - loss: 0.0311 - acc: 0.9900 - val_loss: 0.2243 - val_acc: 0.9410\n",
            "Epoch 78/100\n",
            "100/100 [==============================] - 28s 277ms/step - loss: 0.0283 - acc: 0.9894 - val_loss: 0.2725 - val_acc: 0.9370\n",
            "Epoch 79/100\n",
            "100/100 [==============================] - 28s 284ms/step - loss: 0.0268 - acc: 0.9903 - val_loss: 0.2516 - val_acc: 0.9430\n",
            "Epoch 80/100\n",
            "100/100 [==============================] - 28s 280ms/step - loss: 0.0264 - acc: 0.9880 - val_loss: 0.3276 - val_acc: 0.9290\n",
            "Epoch 81/100\n",
            "100/100 [==============================] - 28s 278ms/step - loss: 0.0230 - acc: 0.9910 - val_loss: 0.2860 - val_acc: 0.9370\n",
            "Epoch 82/100\n",
            "100/100 [==============================] - 28s 279ms/step - loss: 0.0268 - acc: 0.9910 - val_loss: 0.2410 - val_acc: 0.9410\n",
            "Epoch 83/100\n",
            "100/100 [==============================] - 28s 284ms/step - loss: 0.0284 - acc: 0.9890 - val_loss: 0.3891 - val_acc: 0.9210\n",
            "Epoch 84/100\n",
            "100/100 [==============================] - 28s 282ms/step - loss: 0.0236 - acc: 0.9895 - val_loss: 0.2324 - val_acc: 0.9420\n",
            "Epoch 85/100\n",
            "100/100 [==============================] - 28s 281ms/step - loss: 0.0229 - acc: 0.9915 - val_loss: 0.2413 - val_acc: 0.9430\n",
            "Epoch 86/100\n",
            "100/100 [==============================] - 28s 282ms/step - loss: 0.0306 - acc: 0.9920 - val_loss: 0.2577 - val_acc: 0.9440\n",
            "Epoch 87/100\n",
            "100/100 [==============================] - 28s 280ms/step - loss: 0.0246 - acc: 0.9915 - val_loss: 0.3228 - val_acc: 0.9310\n",
            "Epoch 88/100\n",
            "100/100 [==============================] - 29s 286ms/step - loss: 0.0169 - acc: 0.9950 - val_loss: 0.3041 - val_acc: 0.9330\n",
            "Epoch 89/100\n",
            "100/100 [==============================] - 28s 276ms/step - loss: 0.0150 - acc: 0.9945 - val_loss: 0.3474 - val_acc: 0.9160\n",
            "Epoch 90/100\n",
            "100/100 [==============================] - 28s 278ms/step - loss: 0.0200 - acc: 0.9917 - val_loss: 0.3261 - val_acc: 0.9310\n",
            "Epoch 91/100\n",
            "100/100 [==============================] - 28s 277ms/step - loss: 0.0311 - acc: 0.9905 - val_loss: 0.3481 - val_acc: 0.9310\n",
            "Epoch 92/100\n",
            "100/100 [==============================] - 28s 284ms/step - loss: 0.0124 - acc: 0.9950 - val_loss: 0.2802 - val_acc: 0.9390\n",
            "Epoch 93/100\n",
            "100/100 [==============================] - 28s 282ms/step - loss: 0.0212 - acc: 0.9925 - val_loss: 0.2944 - val_acc: 0.9410\n",
            "Epoch 94/100\n",
            "100/100 [==============================] - 28s 276ms/step - loss: 0.0241 - acc: 0.9895 - val_loss: 0.2751 - val_acc: 0.9410\n",
            "Epoch 95/100\n",
            "100/100 [==============================] - 28s 285ms/step - loss: 0.0150 - acc: 0.9940 - val_loss: 0.2569 - val_acc: 0.9450\n",
            "Epoch 96/100\n",
            "100/100 [==============================] - 29s 291ms/step - loss: 0.0252 - acc: 0.9925 - val_loss: 0.2549 - val_acc: 0.9330\n",
            "Epoch 97/100\n",
            "100/100 [==============================] - 29s 288ms/step - loss: 0.0195 - acc: 0.9940 - val_loss: 0.2631 - val_acc: 0.9470\n",
            "Epoch 98/100\n",
            "100/100 [==============================] - 29s 287ms/step - loss: 0.0157 - acc: 0.9940 - val_loss: 0.2493 - val_acc: 0.9420\n",
            "Epoch 99/100\n",
            "100/100 [==============================] - 28s 281ms/step - loss: 0.0245 - acc: 0.9905 - val_loss: 0.2438 - val_acc: 0.9380\n",
            "Epoch 100/100\n",
            "100/100 [==============================] - 28s 278ms/step - loss: 0.0151 - acc: 0.9960 - val_loss: 0.3581 - val_acc: 0.9260\n"
          ],
          "name": "stdout"
        }
      ]
    },
    {
      "cell_type": "code",
      "metadata": {
        "id": "qjAEMeKhAQ0X",
        "colab_type": "code",
        "colab": {
          "base_uri": "https://localhost:8080/",
          "height": 545
        },
        "outputId": "96459863-38ed-4198-a3fa-d53075bd11cd"
      },
      "source": [
        "import matplotlib.pyplot as plt\n",
        "acc = history.history['acc']\n",
        "val_acc = history.history['val_acc']\n",
        "loss = history.history['loss']\n",
        "val_loss = history.history['val_loss']\n",
        "epochs = range(1, len(acc) + 1)\n",
        "plt.plot(epochs, acc, 'bo', label='Training acc')\n",
        "plt.plot(epochs, val_acc, 'b', label='Validation acc')\n",
        "plt.title('Training and validation accuracy')\n",
        "plt.legend()\n",
        "plt.figure()\n",
        "plt.plot(epochs, loss, 'bo', label='Training loss')\n",
        "plt.plot(epochs, val_loss, 'b', label='Validation loss')\n",
        "plt.title('Training and validation loss')\n",
        "plt.legend()\n",
        "plt.show()"
      ],
      "execution_count": 17,
      "outputs": [
        {
          "output_type": "display_data",
          "data": {
            "image/png": "[encoded data removed]",
            "text/plain": [
              "<Figure size 432x288 with 1 Axes>"
            ]
          },
          "metadata": {
            "tags": []
          }
        },
        {
          "output_type": "display_data",
          "data": {
            "image/png": "[encoded data removed]",
            "text/plain": [
              "<Figure size 432x288 with 1 Axes>"
            ]
          },
          "metadata": {
            "tags": []
          }
        }
      ]
    },
    {
      "cell_type": "code",
      "metadata": {
        "id": "IDtG7dY5McBO",
        "colab_type": "code",
        "colab": {
          "base_uri": "https://localhost:8080/",
          "height": 545
        },
        "outputId": "65631d39-d435-47dd-8cd3-291bc9ff6392"
      },
      "source": [
        "def smooth_curve(points, factor=0.8):\n",
        "  smoothed_points = []\n",
        "  for point in points:\n",
        "    if smoothed_points:\n",
        "      previous = smoothed_points[-1]\n",
        "      smoothed_points.append(previous * factor + point * (1 - factor))\n",
        "    else:\n",
        "      smoothed_points.append(point)\n",
        "  return smoothed_points\n",
        "plt.plot(epochs,\n",
        "smooth_curve(acc), 'bo', label='Smoothed training acc')\n",
        "plt.plot(epochs,\n",
        "smooth_curve(val_acc), 'b', label='Smoothed validation acc')\n",
        "plt.title('Training and validation accuracy')\n",
        "plt.legend()\n",
        "plt.figure()\n",
        "plt.plot(epochs,\n",
        "smooth_curve(loss), 'bo', label='Smoothed training loss')\n",
        "plt.plot(epochs,\n",
        "smooth_curve(val_loss), 'b', label='Smoothed validation loss')\n",
        "plt.title('Training and validation loss')\n",
        "plt.legend()\n",
        "plt.show()"
      ],
      "execution_count": 18,
      "outputs": [
        {
          "output_type": "display_data",
          "data": {
            "image/png": "[encoded data removed]",
            "text/plain": [
              "<Figure size 432x288 with 1 Axes>"
            ]
          },
          "metadata": {
            "tags": []
          }
        },
        {
          "output_type": "display_data",
          "data": {
            "image/png": "[encoded data removed]",
            "text/plain": [
              "<Figure size 432x288 with 1 Axes>"
            ]
          },
          "metadata": {
            "tags": []
          }
        }
      ]
    },
    {
      "cell_type": "code",
      "metadata": {
        "id": "_lmHpQ-0N75z",
        "colab_type": "code",
        "colab": {
          "base_uri": "https://localhost:8080/",
          "height": 51
        },
        "outputId": "f84d39fd-25e1-434a-d61e-fd1dcede786d"
      },
      "source": [
        "test_generator = test_datagen.flow_from_directory(\n",
        "test_dir,\n",
        "target_size=(150, 150),\n",
        "batch_size=20,\n",
        "class_mode='binary')\n",
        "test_loss, test_acc = model.evaluate_generator(test_generator, steps=50)\n",
        "print('test acc:', test_acc)"
      ],
      "execution_count": 19,
      "outputs": [
        {
          "output_type": "stream",
          "text": [
            "Found 1000 images belonging to 2 classes.\n",
            "test acc: 0.9319999897480011\n"
          ],
          "name": "stdout"
        }
      ]
    },
    {
      "cell_type": "code",
      "metadata": {
        "id": "dBeIIPkNOh_k",
        "colab_type": "code",
        "colab": {}
      },
      "source": [
        ""
      ],
      "execution_count": 0,
      "outputs": []
    }
  ]
}