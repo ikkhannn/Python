{
 "cells": [
  {
   "cell_type": "markdown",
   "metadata": {},
   "source": [
    "### make a person class and inherit patient and doctor from it"
   ]
  },
  {
   "cell_type": "code",
   "execution_count": 15,
   "metadata": {},
   "outputs": [
    {
     "name": "stdout",
     "output_type": "stream",
     "text": [
      "take medicine\n"
     ]
    }
   ],
   "source": [
    "class Person:\n",
    "    def __init__(self,name,age,gender):\n",
    "        self.name=name\n",
    "        self.age=age\n",
    "        self.gender=gender\n",
    "    def Breathe():\n",
    "        print(\"Person Breathe\")\n",
    "        \n",
    "    \n",
    "        \n",
    "class Patient(Person):\n",
    "    def __init__(self,name,age,gender,problem):\n",
    "        super().__init__(name,age,gender)\n",
    "        self.problem=problem\n",
    "        \n",
    "        \n",
    "    def Breathe(self):\n",
    "        print(\"Patient breathes\")\n",
    "        \n",
    "    def TakeMedicine(self):\n",
    "        print(\"take medicine\")\n",
    "        \n",
    "   \n",
    "\n",
    "class Doctor(Person):\n",
    "    def __init__(self,name,age,gender,specialization):\n",
    "        super().__init__(name,age,gender)\n",
    "        self.specializaton=specialization\n",
    "    def Breathe(self):\n",
    "        print(\"Doctor breathese\")\n",
    "        \n",
    "    def check_patient(self):\n",
    "        print(\"Check patient\")\n",
    "        \n",
    "patient=Patient(\"taimoor\",\"14\",\"male\",\"Cough\")\n",
    "patient.TakeMedicine()\n"
   ]
  },
  {
   "cell_type": "code",
   "execution_count": 16,
   "metadata": {},
   "outputs": [
    {
     "name": "stdout",
     "output_type": "stream",
     "text": [
      "Patient breathes\n"
     ]
    }
   ],
   "source": [
    "patient.Breathe()aaew,m"
   ]
  },
  {
   "cell_type": "markdown",
   "metadata": {},
   "source": [
    "### Make a disease class , take name,"
   ]
  },
  {
   "cell_type": "code",
   "execution_count": 18,
   "metadata": {},
   "outputs": [],
   "source": [
    "class Disease:\n",
    "    def __init__(self,name):\n",
    "        self.name=name\n",
    "    def print_name(self):\n",
    "        return self.name"
   ]
  },
  {
   "cell_type": "code",
   "execution_count": 19,
   "metadata": {},
   "outputs": [],
   "source": [
    "disease=Disease(\"Rao\")"
   ]
  },
  {
   "cell_type": "code",
   "execution_count": 20,
   "metadata": {},
   "outputs": [
    {
     "name": "stdout",
     "output_type": "stream",
     "text": [
      "Rao\n"
     ]
    }
   ],
   "source": [
    "print(disease.print_name())"
   ]
  },
  {
   "cell_type": "code",
   "execution_count": null,
   "metadata": {},
   "outputs": [],
   "source": []
  }
 ],
 "metadata": {
  "kernelspec": {
   "display_name": "Python 3",
   "language": "python",
   "name": "python3"
  },
  "language_info": {
   "codemirror_mode": {
    "name": "ipython",
    "version": 3
   },
   "file_extension": ".py",
   "mimetype": "text/x-python",
   "name": "python",
   "nbconvert_exporter": "python",
   "pygments_lexer": "ipython3",
   "version": "3.7.1"
  }
 },
 "nbformat": 4,
 "nbformat_minor": 2
}
