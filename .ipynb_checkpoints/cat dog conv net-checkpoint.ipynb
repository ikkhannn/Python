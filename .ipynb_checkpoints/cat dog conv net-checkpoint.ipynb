{
 "cells": [
  {
   "cell_type": "code",
   "execution_count": 1,
   "metadata": {},
   "outputs": [
    {
     "name": "stderr",
     "output_type": "stream",
     "text": [
      "Using TensorFlow backend.\n"
     ]
    },
    {
     "name": "stdout",
     "output_type": "stream",
     "text": [
      "WARNING:tensorflow:From C:\\Users\\me\\Anaconda3\\envs\\ml\\lib\\site-packages\\keras\\backend\\tensorflow_backend.py:66: The name tf.get_default_graph is deprecated. Please use tf.compat.v1.get_default_graph instead.\n",
      "\n",
      "WARNING:tensorflow:From C:\\Users\\me\\Anaconda3\\envs\\ml\\lib\\site-packages\\keras\\backend\\tensorflow_backend.py:541: The name tf.placeholder is deprecated. Please use tf.compat.v1.placeholder instead.\n",
      "\n",
      "WARNING:tensorflow:From C:\\Users\\me\\Anaconda3\\envs\\ml\\lib\\site-packages\\keras\\backend\\tensorflow_backend.py:4432: The name tf.random_uniform is deprecated. Please use tf.random.uniform instead.\n",
      "\n",
      "WARNING:tensorflow:From C:\\Users\\me\\Anaconda3\\envs\\ml\\lib\\site-packages\\keras\\backend\\tensorflow_backend.py:4267: The name tf.nn.max_pool is deprecated. Please use tf.nn.max_pool2d instead.\n",
      "\n",
      "WARNING:tensorflow:From C:\\Users\\me\\Anaconda3\\envs\\ml\\lib\\site-packages\\keras\\optimizers.py:793: The name tf.train.Optimizer is deprecated. Please use tf.compat.v1.train.Optimizer instead.\n",
      "\n",
      "WARNING:tensorflow:From C:\\Users\\me\\Anaconda3\\envs\\ml\\lib\\site-packages\\keras\\backend\\tensorflow_backend.py:3657: The name tf.log is deprecated. Please use tf.math.log instead.\n",
      "\n",
      "WARNING:tensorflow:From C:\\Users\\me\\Anaconda3\\envs\\ml\\lib\\site-packages\\tensorflow\\python\\ops\\nn_impl.py:180: add_dispatch_support.<locals>.wrapper (from tensorflow.python.ops.array_ops) is deprecated and will be removed in a future version.\n",
      "Instructions for updating:\n",
      "Use tf.where in 2.0, which has the same broadcast rule as np.where\n"
     ]
    }
   ],
   "source": [
    "from keras import layers\n",
    "from keras import models\n",
    "model = models.Sequential()\n",
    "model.add(layers.Conv2D(32, (3, 3), activation='relu',\n",
    "input_shape=(150, 150, 3)))\n",
    "model.add(layers.MaxPooling2D((2, 2)))\n",
    "model.add(layers.Conv2D(64, (3, 3), activation='relu'))\n",
    "model.add(layers.MaxPooling2D((2, 2)))\n",
    "model.add(layers.Conv2D(128, (3, 3), activation='relu'))\n",
    "model.add(layers.MaxPooling2D((2, 2)))\n",
    "model.add(layers.Conv2D(128, (3, 3), activation='relu'))\n",
    "model.add(layers.MaxPooling2D((2, 2)))\n",
    "model.add(layers.Flatten())\n",
    "model.add(layers.Dense(512, activation='relu'))\n",
    "model.add(layers.Dense(1, activation='sigmoid'))\n",
    "\n",
    "from keras import optimizers\n",
    "model.compile(loss='binary_crossentropy',\n",
    "optimizer=optimizers.RMSprop(lr=1e-4),\n",
    "metrics=['acc'])"
   ]
  },
  {
   "cell_type": "code",
   "execution_count": 2,
   "metadata": {},
   "outputs": [],
   "source": [
    "from keras.preprocessing.image import ImageDataGenerator\n",
    "train_datagen = ImageDataGenerator(rescale=1./255)\n",
    "test_datagen = ImageDataGenerator(rescale=1./255)"
   ]
  },
  {
   "cell_type": "code",
   "execution_count": 3,
   "metadata": {},
   "outputs": [
    {
     "name": "stdout",
     "output_type": "stream",
     "text": [
      "Found 1997 images belonging to 2 classes.\n"
     ]
    }
   ],
   "source": [
    "train_dir='C:/Users/me/Desktop/CD-Dataset/train'\n",
    "train_generator = train_datagen.flow_from_directory(train_dir,target_size=(150, 150),batch_size=20,class_mode='binary')"
   ]
  },
  {
   "cell_type": "code",
   "execution_count": 4,
   "metadata": {},
   "outputs": [
    {
     "name": "stdout",
     "output_type": "stream",
     "text": [
      "Found 1000 images belonging to 2 classes.\n"
     ]
    }
   ],
   "source": [
    "validation_dir='C:/Users/me/Desktop/CD-Dataset/validation'\n",
    "validation_generator = test_datagen.flow_from_directory(validation_dir,target_size=(150, 150),batch_size=20,class_mode='binary')"
   ]
  },
  {
   "cell_type": "code",
   "execution_count": 5,
   "metadata": {},
   "outputs": [
    {
     "name": "stdout",
     "output_type": "stream",
     "text": [
      "data batch shape: (20, 150, 150, 3)\n",
      "labels batch shape: (20,)\n"
     ]
    }
   ],
   "source": [
    "for data_batch, labels_batch in train_generator:\n",
    "    print('data batch shape:', data_batch.shape)\n",
    "    print('labels batch shape:', labels_batch.shape)\n",
    "    break\n",
    "    "
   ]
  },
  {
   "cell_type": "code",
   "execution_count": 6,
   "metadata": {},
   "outputs": [
    {
     "name": "stdout",
     "output_type": "stream",
     "text": [
      "WARNING:tensorflow:From C:\\Users\\me\\Anaconda3\\envs\\ml\\lib\\site-packages\\keras\\backend\\tensorflow_backend.py:1033: The name tf.assign_add is deprecated. Please use tf.compat.v1.assign_add instead.\n",
      "\n",
      "Epoch 1/30\n",
      "100/100 [==============================] - 45s 452ms/step - loss: 0.6911 - acc: 0.5395 - val_loss: 0.6801 - val_acc: 0.5690\n",
      "Epoch 2/30\n",
      "100/100 [==============================] - 42s 418ms/step - loss: 0.6631 - acc: 0.6063 - val_loss: 0.6379 - val_acc: 0.6450\n",
      "Epoch 3/30\n",
      "100/100 [==============================] - 43s 432ms/step - loss: 0.6201 - acc: 0.6506 - val_loss: 0.6397 - val_acc: 0.6090\n",
      "Epoch 4/30\n",
      "100/100 [==============================] - 41s 413ms/step - loss: 0.5781 - acc: 0.6889 - val_loss: 0.5933 - val_acc: 0.6710\n",
      "Epoch 5/30\n",
      "100/100 [==============================] - 41s 415ms/step - loss: 0.5443 - acc: 0.7281 - val_loss: 0.5831 - val_acc: 0.6830\n",
      "Epoch 6/30\n",
      "100/100 [==============================] - 42s 415ms/step - loss: 0.5145 - acc: 0.7461 - val_loss: 0.5665 - val_acc: 0.6960\n",
      "Epoch 7/30\n",
      "100/100 [==============================] - 42s 420ms/step - loss: 0.4819 - acc: 0.7606 - val_loss: 0.5570 - val_acc: 0.6920\n",
      "Epoch 8/30\n",
      "100/100 [==============================] - 42s 418ms/step - loss: 0.4570 - acc: 0.7813 - val_loss: 0.5500 - val_acc: 0.7160\n",
      "Epoch 9/30\n",
      "100/100 [==============================] - 42s 416ms/step - loss: 0.4249 - acc: 0.8101 - val_loss: 0.5636 - val_acc: 0.7210\n",
      "Epoch 10/30\n",
      "100/100 [==============================] - 42s 421ms/step - loss: 0.3989 - acc: 0.8187 - val_loss: 0.5959 - val_acc: 0.7100\n",
      "Epoch 11/30\n",
      "100/100 [==============================] - 44s 441ms/step - loss: 0.3774 - acc: 0.8356 - val_loss: 0.6147 - val_acc: 0.6980\n",
      "Epoch 12/30\n",
      "100/100 [==============================] - 42s 425ms/step - loss: 0.3621 - acc: 0.8442 - val_loss: 0.5643 - val_acc: 0.7350\n",
      "Epoch 13/30\n",
      "100/100 [==============================] - 43s 435ms/step - loss: 0.3374 - acc: 0.8563 - val_loss: 0.6106 - val_acc: 0.7210\n",
      "Epoch 14/30\n",
      "100/100 [==============================] - 45s 446ms/step - loss: 0.3082 - acc: 0.8668 - val_loss: 0.5417 - val_acc: 0.7360\n",
      "Epoch 15/30\n",
      "100/100 [==============================] - 44s 442ms/step - loss: 0.2847 - acc: 0.8799 - val_loss: 0.5718 - val_acc: 0.7290\n",
      "Epoch 16/30\n",
      "100/100 [==============================] - 43s 429ms/step - loss: 0.2697 - acc: 0.8849 - val_loss: 0.6533 - val_acc: 0.7300\n",
      "Epoch 17/30\n",
      "100/100 [==============================] - 43s 426ms/step - loss: 0.2455 - acc: 0.8990 - val_loss: 0.5949 - val_acc: 0.7340\n",
      "Epoch 18/30\n",
      "100/100 [==============================] - 42s 423ms/step - loss: 0.2205 - acc: 0.9115 - val_loss: 0.6109 - val_acc: 0.7340\n",
      "Epoch 19/30\n",
      "100/100 [==============================] - 45s 454ms/step - loss: 0.2014 - acc: 0.9245 - val_loss: 0.6231 - val_acc: 0.7440\n",
      "Epoch 20/30\n",
      "100/100 [==============================] - 44s 435ms/step - loss: 0.1809 - acc: 0.9310 - val_loss: 0.6333 - val_acc: 0.7380\n",
      "Epoch 21/30\n",
      "100/100 [==============================] - 44s 439ms/step - loss: 0.1632 - acc: 0.9425 - val_loss: 0.6524 - val_acc: 0.7390\n",
      "Epoch 22/30\n",
      "100/100 [==============================] - 44s 442ms/step - loss: 0.1449 - acc: 0.9495 - val_loss: 0.7417 - val_acc: 0.7300\n",
      "Epoch 23/30\n",
      "100/100 [==============================] - 43s 430ms/step - loss: 0.1260 - acc: 0.9530 - val_loss: 0.9359 - val_acc: 0.6930\n",
      "Epoch 24/30\n",
      "100/100 [==============================] - 45s 446ms/step - loss: 0.1157 - acc: 0.9635 - val_loss: 0.7390 - val_acc: 0.7370\n",
      "Epoch 25/30\n",
      "100/100 [==============================] - 46s 464ms/step - loss: 0.0922 - acc: 0.9729 - val_loss: 0.9210 - val_acc: 0.7250\n",
      "Epoch 26/30\n",
      "100/100 [==============================] - 43s 430ms/step - loss: 0.0806 - acc: 0.9775 - val_loss: 0.8181 - val_acc: 0.7410\n",
      "Epoch 27/30\n",
      "100/100 [==============================] - 43s 429ms/step - loss: 0.0651 - acc: 0.9812 - val_loss: 0.8862 - val_acc: 0.7220\n",
      "Epoch 28/30\n",
      "100/100 [==============================] - 43s 431ms/step - loss: 0.0564 - acc: 0.9875 - val_loss: 0.9400 - val_acc: 0.7190\n",
      "Epoch 29/30\n",
      "100/100 [==============================] - 44s 444ms/step - loss: 0.0525 - acc: 0.9850 - val_loss: 1.0629 - val_acc: 0.7020\n",
      "Epoch 30/30\n",
      "100/100 [==============================] - 46s 458ms/step - loss: 0.0456 - acc: 0.9880 - val_loss: 0.9496 - val_acc: 0.7480\n"
     ]
    }
   ],
   "source": [
    "history = model.fit_generator(\n",
    "train_generator,\n",
    "steps_per_epoch=100,\n",
    "epochs=30,\n",
    "validation_data=validation_generator,\n",
    "validation_steps=50)"
   ]
  },
  {
   "cell_type": "code",
   "execution_count": 7,
   "metadata": {},
   "outputs": [],
   "source": [
    "model.save('cats_and_dogs_small_1.h5')"
   ]
  },
  {
   "cell_type": "code",
   "execution_count": 9,
   "metadata": {},
   "outputs": [
    {
     "data": {
      "image/png": "[encoded data removed]",
      "text/plain": [
       "<Figure size 432x288 with 1 Axes>"
      ]
     },
     "metadata": {
      "needs_background": "light"
     },
     "output_type": "display_data"
    },
    {
     "data": {
      "image/png": "[encoded data removed]",
      "text/plain": [
       "<Figure size 432x288 with 1 Axes>"
      ]
     },
     "metadata": {
      "needs_background": "light"
     },
     "output_type": "display_data"
    }
   ],
   "source": [
    "import matplotlib.pyplot as plt\n",
    "%matplotlib inline\n",
    "acc = history.history['acc']\n",
    "val_acc = history.history['val_acc']\n",
    "loss = history.history['loss']\n",
    "val_loss = history.history['val_loss']\n",
    "epochs = range(1, len(acc) + 1)\n",
    "plt.plot(epochs, acc, 'bo', label='Training acc')\n",
    "plt.plot(epochs, val_acc, 'b', label='Validation acc')\n",
    "plt.title('Training and validation accuracy')\n",
    "plt.legend()\n",
    "plt.figure()\n",
    "plt.plot(epochs, loss, 'bo', label='Training loss')\n",
    "plt.plot(epochs, val_loss, 'b', label='Validation loss')\n",
    "plt.title('Training and validation loss')\n",
    "plt.legend()\n",
    "plt.show()"
   ]
  },
  {
   "cell_type": "code",
   "execution_count": null,
   "metadata": {},
   "outputs": [],
   "source": []
  }
 ],
 "metadata": {
  "kernelspec": {
   "display_name": "Python 3",
   "language": "python",
   "name": "python3"
  },
  "language_info": {
   "codemirror_mode": {
    "name": "ipython",
    "version": 3
   },
   "file_extension": ".py",
   "mimetype": "text/x-python",
   "name": "python",
   "nbconvert_exporter": "python",
   "pygments_lexer": "ipython3",
   "version": "3.7.4"
  }
 },
 "nbformat": 4,
 "nbformat_minor": 2
}
