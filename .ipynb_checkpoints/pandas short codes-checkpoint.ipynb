{
 "cells": [
  {
   "cell_type": "code",
   "execution_count": 4,
   "metadata": {},
   "outputs": [],
   "source": [
    "#readcsv\n",
    "import pandas as pd\n",
    "df = pd.read_csv('pizza.csv')"
   ]
  },
  {
   "cell_type": "code",
   "execution_count": 6,
   "metadata": {},
   "outputs": [
    {
     "name": "stdout",
     "output_type": "stream",
     "text": [
      "<class 'pandas.core.frame.DataFrame'>\n",
      "RangeIndex: 5 entries, 0 to 4\n",
      "Data columns (total 4 columns):\n",
      "name                5 non-null object\n",
      "pizza_style         5 non-null object\n",
      "number_of_slices    5 non-null int64\n",
      "flavored_crust      5 non-null object\n",
      "dtypes: int64(1), object(3)\n",
      "memory usage: 240.0+ bytes\n"
     ]
    }
   ],
   "source": [
    "#explore data\n",
    "df.head()       # first five rows\n",
    "df.tail()       # last five rows\n",
    "df.sample(5)    # random sample of rows\n",
    "df.shape        # number of rows/columns in a tuple\n",
    "df.describe()   # calculates measures of central tendency\n",
    "df.info()       # memory footprint and datatypes"
   ]
  },
  {
   "cell_type": "code",
   "execution_count": 7,
   "metadata": {},
   "outputs": [],
   "source": [
    "#add new column\n",
    "df['new_column'] = \"new column value\""
   ]
  },
  {
   "cell_type": "code",
   "execution_count": 13,
   "metadata": {},
   "outputs": [
    {
     "data": {
      "text/plain": [
       "'chicago'"
      ]
     },
     "execution_count": 13,
     "metadata": {},
     "output_type": "execute_result"
    }
   ],
   "source": [
    "#select a specific cell value\n",
    "df.iloc[2,1]"
   ]
  },
  {
   "cell_type": "code",
   "execution_count": 14,
   "metadata": {},
   "outputs": [
    {
     "data": {
      "text/html": [
       "<div>\n",
       "<style scoped>\n",
       "    .dataframe tbody tr th:only-of-type {\n",
       "        vertical-align: middle;\n",
       "    }\n",
       "\n",
       "    .dataframe tbody tr th {\n",
       "        vertical-align: top;\n",
       "    }\n",
       "\n",
       "    .dataframe thead th {\n",
       "        text-align: right;\n",
       "    }\n",
       "</style>\n",
       "<table border=\"1\" class=\"dataframe\">\n",
       "  <thead>\n",
       "    <tr style=\"text-align: right;\">\n",
       "      <th></th>\n",
       "      <th>name</th>\n",
       "      <th>pizza_style</th>\n",
       "      <th>number_of_slices</th>\n",
       "      <th>flavored_crust</th>\n",
       "      <th>new_column</th>\n",
       "    </tr>\n",
       "  </thead>\n",
       "  <tbody>\n",
       "    <tr>\n",
       "      <th>0</th>\n",
       "      <td>Will</td>\n",
       "      <td>new_york</td>\n",
       "      <td>5</td>\n",
       "      <td>yes</td>\n",
       "      <td>new column value</td>\n",
       "    </tr>\n",
       "    <tr>\n",
       "      <th>1</th>\n",
       "      <td>Lane</td>\n",
       "      <td>new_york</td>\n",
       "      <td>4</td>\n",
       "      <td>no</td>\n",
       "      <td>new column value</td>\n",
       "    </tr>\n",
       "  </tbody>\n",
       "</table>\n",
       "</div>"
      ],
      "text/plain": [
       "   name pizza_style  number_of_slices flavored_crust        new_column\n",
       "0  Will    new_york                 5            yes  new column value\n",
       "1  Lane    new_york                 4             no  new column value"
      ]
     },
     "execution_count": 14,
     "metadata": {},
     "output_type": "execute_result"
    }
   ],
   "source": [
    "#conditional logics\n",
    "df[df['pizza_style']==\"new_york\"]"
   ]
  },
  {
   "cell_type": "code",
   "execution_count": 16,
   "metadata": {},
   "outputs": [
    {
     "data": {
      "text/html": [
       "<div>\n",
       "<style scoped>\n",
       "    .dataframe tbody tr th:only-of-type {\n",
       "        vertical-align: middle;\n",
       "    }\n",
       "\n",
       "    .dataframe tbody tr th {\n",
       "        vertical-align: top;\n",
       "    }\n",
       "\n",
       "    .dataframe thead th {\n",
       "        text-align: right;\n",
       "    }\n",
       "</style>\n",
       "<table border=\"1\" class=\"dataframe\">\n",
       "  <thead>\n",
       "    <tr style=\"text-align: right;\">\n",
       "      <th></th>\n",
       "      <th>name</th>\n",
       "      <th>pizza_style</th>\n",
       "      <th>number_of_slices</th>\n",
       "      <th>flavored_crust</th>\n",
       "      <th>new_column</th>\n",
       "    </tr>\n",
       "  </thead>\n",
       "  <tbody>\n",
       "    <tr>\n",
       "      <th>4</th>\n",
       "      <td>Ethan</td>\n",
       "      <td>chicago</td>\n",
       "      <td>3</td>\n",
       "      <td>yes</td>\n",
       "      <td>new column value</td>\n",
       "    </tr>\n",
       "    <tr>\n",
       "      <th>1</th>\n",
       "      <td>Lane</td>\n",
       "      <td>new_york</td>\n",
       "      <td>4</td>\n",
       "      <td>no</td>\n",
       "      <td>new column value</td>\n",
       "    </tr>\n",
       "    <tr>\n",
       "      <th>2</th>\n",
       "      <td>Dave</td>\n",
       "      <td>chicago</td>\n",
       "      <td>4</td>\n",
       "      <td>no</td>\n",
       "      <td>new column value</td>\n",
       "    </tr>\n",
       "    <tr>\n",
       "      <th>0</th>\n",
       "      <td>Will</td>\n",
       "      <td>new_york</td>\n",
       "      <td>5</td>\n",
       "      <td>yes</td>\n",
       "      <td>new column value</td>\n",
       "    </tr>\n",
       "    <tr>\n",
       "      <th>3</th>\n",
       "      <td>Shannon</td>\n",
       "      <td>chicago</td>\n",
       "      <td>6</td>\n",
       "      <td>no</td>\n",
       "      <td>new column value</td>\n",
       "    </tr>\n",
       "  </tbody>\n",
       "</table>\n",
       "</div>"
      ],
      "text/plain": [
       "      name pizza_style  number_of_slices flavored_crust        new_column\n",
       "4    Ethan     chicago                 3            yes  new column value\n",
       "1     Lane    new_york                 4             no  new column value\n",
       "2     Dave     chicago                 4             no  new column value\n",
       "0     Will    new_york                 5            yes  new column value\n",
       "3  Shannon     chicago                 6             no  new column value"
      ]
     },
     "execution_count": 16,
     "metadata": {},
     "output_type": "execute_result"
    }
   ],
   "source": [
    "#sorting dataframe by certain value\n",
    "df.sort_values('number_of_slices', axis=0, ascending=True)"
   ]
  },
  {
   "cell_type": "code",
   "execution_count": 17,
   "metadata": {},
   "outputs": [],
   "source": [
    "#Apply function to every row in column\n",
    "def calculate_taxes(number_of_slices):\n",
    "    taxes =  number_of_slices* 0.1\n",
    "    return taxes\n",
    "df['taxes'] = df.number_of_slices.apply(calculate_taxes)"
   ]
  },
  {
   "cell_type": "code",
   "execution_count": null,
   "metadata": {},
   "outputs": [],
   "source": []
  }
 ],
 "metadata": {
  "kernelspec": {
   "display_name": "Python 3",
   "language": "python",
   "name": "python3"
  },
  "language_info": {
   "codemirror_mode": {
    "name": "ipython",
    "version": 3
   },
   "file_extension": ".py",
   "mimetype": "text/x-python",
   "name": "python",
   "nbconvert_exporter": "python",
   "pygments_lexer": "ipython3",
   "version": "3.7.3"
  }
 },
 "nbformat": 4,
 "nbformat_minor": 2
}
